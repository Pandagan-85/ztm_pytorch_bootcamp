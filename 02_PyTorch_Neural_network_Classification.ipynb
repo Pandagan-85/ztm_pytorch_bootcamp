{
 "cells": [
  {
   "cell_type": "markdown",
   "id": "1f071e80-051b-4fff-8d78-79a438028815",
   "metadata": {},
   "source": [
    "Affronteremo un problema di Classificazione.\n",
    "![](image/02_classification.png)\n",
    "\n",
    "Un problema di classificazione comprende il predire se un qualcosa appartiene a una \"categoria\" o un'altra\n",
    "\n",
    "| Problem type | What is it? | Example|\n",
    "|--------------|--------------|------|\n",
    "| Binary classification | Target can be one of two options, e.g. yes or no | Predict whether or not someone has heart disease based on their health parameters.|\n",
    "| Multi-class classification | Target can be one of more than two options | Decide whether a photo is of food, a person or a dog.|\n",
    "| Multi-label classification | Target can be assigned more than one option | Predict what categories should be assigned to a Wikipedia article (e.g. mathematics, science & philosophy).|\n",
    "\n",
    "Il barch size sarà di 32 ([tweet LeCun](https://x.com/ylecun/status/989610208497360896))\n",
    "![](image/Lecun_batch.png)\n"
   ]
  },
  {
   "cell_type": "markdown",
   "id": "33ca8762-effe-4da1-a8bf-ee855eb53ead",
   "metadata": {},
   "source": [
    "## Architettura di un rete neurale di classificazione\n",
    "\n",
    "| **Hyperparameter** | **Binary Classification** | **Multiclass classification**|\n",
    "|----------------|-----------------------|---------------------------|\n",
    "|**Input layer shape** (in_features) | Same as number of features (e.g. 5 for age, sex, height, weight, smoking status in heart disease prediction) | Same as binary classification|\n",
    "|**Hidden layer(s)** | Problem specific, `minimum = 1`, `maximum = unlimited` | Same as binary classification |\n",
    "| **Neurons per hidden layer** | Problem specific, generally 10 to 512 | Same as binary classification|\n",
    "| **Output layer shape** (out_features) | 1 (one class or the other) | 1 per class (e.g. 3 for food, person or dog photo)|\n",
    "| **Hidden layer activation** | Usually `ReLU` (rectified linear unit) but can be many others | Same as binary classification|\n",
    "| **Output activation** | Sigmoid (`torch.sigmoid` in PyTorch) | Softmax (`torch.softmax` in PyTorch)|\n",
    "| **Loss function** | Binary crossentropy (`torch.nn.BCELoss` in PyTorch) | Cross entropy (`torch.nn.CrossEntropyLoss` in PyTorch)|\n",
    "| **Optimizer** | \tSGD (stochastic gradient descent), Adam (see `torch.optim` for more options) | Same as binary classification|"
   ]
  },
  {
   "cell_type": "code",
   "execution_count": null,
   "id": "6fef6074-6118-489d-af60-143421e3dbd8",
   "metadata": {},
   "outputs": [],
   "source": []
  }
 ],
 "metadata": {
  "kernelspec": {
   "display_name": "Python 3 (ipykernel)",
   "language": "python",
   "name": "python3"
  },
  "language_info": {
   "codemirror_mode": {
    "name": "ipython",
    "version": 3
   },
   "file_extension": ".py",
   "mimetype": "text/x-python",
   "name": "python",
   "nbconvert_exporter": "python",
   "pygments_lexer": "ipython3",
   "version": "3.10.17"
  }
 },
 "nbformat": 4,
 "nbformat_minor": 5
}
