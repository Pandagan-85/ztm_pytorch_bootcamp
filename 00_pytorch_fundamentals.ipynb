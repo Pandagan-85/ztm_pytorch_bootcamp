{
 "cells": [
  {
   "cell_type": "code",
   "execution_count": 5,
   "id": "ff4e1b7b-ae9c-4b76-b7df-3e90b6068d79",
   "metadata": {},
   "outputs": [
    {
     "name": "stdout",
     "output_type": "stream",
     "text": [
      "tensor([[-1.0720, -1.1588, -0.6223],\n",
      "        [ 1.3196, -0.1108, -1.1896],\n",
      "        [-0.9192,  1.4755,  0.6995]])\n",
      "False\n"
     ]
    }
   ],
   "source": [
    "import pandas as pd\n",
    "import numpy as np\n",
    "import torch\n",
    "import sklearn\n",
    "import matplotlib\n",
    "import torchinfo, torchmetrics\n",
    "\n",
    "# Check PyTorch access (should print out a tensor)\n",
    "print(torch.randn(3, 3))\n",
    "\n",
    "# Check for GPU (should return True)\n",
    "print(torch.cuda.is_available())"
   ]
  },
  {
   "cell_type": "code",
   "execution_count": 13,
   "id": "1b74196f-b169-44cf-ad03-a7e77cac878e",
   "metadata": {},
   "outputs": [
    {
     "name": "stdout",
     "output_type": "stream",
     "text": [
      "2.7.0\n"
     ]
    }
   ],
   "source": [
    "print(torch.__version__)"
   ]
  },
  {
   "cell_type": "code",
   "execution_count": 6,
   "id": "8c441727-0925-4f71-b1dd-5dcd39a8a711",
   "metadata": {},
   "outputs": [
    {
     "name": "stdout",
     "output_type": "stream",
     "text": [
      "Random tensor:\n",
      "tensor([[-1.1899,  0.1600, -0.3878],\n",
      "        [-0.5169, -0.7166, -0.3784],\n",
      "        [-1.3063,  0.3814,  1.7909]])\n",
      "CUDA available: False\n",
      "MPS available: True\n",
      "Tensor moved to MPS device: mps:0\n"
     ]
    }
   ],
   "source": [
    "# Crea un tensore casuale\n",
    "x = torch.randn(3, 3)\n",
    "print(f\"Random tensor:\\n{x}\")\n",
    "\n",
    "# Verifica disponibilità acceleratori\n",
    "print(f\"CUDA available: {torch.cuda.is_available()}\")\n",
    "print(f\"MPS available: {torch.backends.mps.is_available() if hasattr(torch.backends, 'mps') else 'MPS module not found'}\")\n",
    "\n",
    "# Prova a utilizzare MPS se disponibile\n",
    "if hasattr(torch.backends, 'mps') and torch.backends.mps.is_available():\n",
    "    device = torch.device(\"mps\")\n",
    "    x = x.to(device)\n",
    "    print(f\"Tensor moved to MPS device: {x.device}\")"
   ]
  },
  {
   "cell_type": "markdown",
   "id": "98de0d1e-02bf-4d6e-9943-2a9fa9446e11",
   "metadata": {},
   "source": [
    "## 🚨Durante il corso sostituire CUDA CON MPS🚨\n",
    "\n",
    "`device = torch.device(\"cuda\" if torch.cuda.is_available() else \"cpu\")`\n",
    "\n",
    "diventerà\n",
    "\n",
    "`device = torch.device(\"mps\" if torch.backends.mps.is_available() else \"cpu\")`"
   ]
  },
  {
   "cell_type": "markdown",
   "id": "770215c8-f27f-4a06-8a9f-459e5cfb67c8",
   "metadata": {},
   "source": [
    "### Funzione per rendere universale?"
   ]
  },
  {
   "cell_type": "code",
   "execution_count": 7,
   "id": "a86d5561-87ff-4974-96f9-7ea1a865b686",
   "metadata": {},
   "outputs": [],
   "source": [
    "def get_device():\n",
    "    if torch.backends.mps.is_available():\n",
    "        return torch.device(\"mps\")\n",
    "    elif torch.cuda.is_available():\n",
    "        return torch.device(\"cuda\")\n",
    "    else:\n",
    "        return torch.device(\"cpu\")\n",
    "\n",
    "# Poi usa\n",
    "device = get_device()"
   ]
  },
  {
   "cell_type": "code",
   "execution_count": 8,
   "id": "acbf38e5-5095-4621-88ff-6992a681322a",
   "metadata": {},
   "outputs": [
    {
     "name": "stdout",
     "output_type": "stream",
     "text": [
      "mps\n"
     ]
    }
   ],
   "source": [
    "print(device)"
   ]
  },
  {
   "cell_type": "markdown",
   "id": "3fbb657b-0742-473e-8c1a-7bc7e34ceded",
   "metadata": {},
   "source": [
    "## Introduction to Tensors\n",
    "### Creating tensors\n",
    "\n",
    "I tensori PyTotch sono creati usando `torch.Tensor()` [documentazione](https://pytorch.org/docs/stable/tensors.html)"
   ]
  },
  {
   "cell_type": "code",
   "execution_count": 9,
   "id": "66632c2a-8228-4cbf-8a9f-feced7113eae",
   "metadata": {},
   "outputs": [
    {
     "data": {
      "text/plain": [
       "tensor(7)"
      ]
     },
     "execution_count": 9,
     "metadata": {},
     "output_type": "execute_result"
    }
   ],
   "source": [
    "# scalar (non ha dimensione)\n",
    "\n",
    "scalar = torch.tensor(7)\n",
    "scalar"
   ]
  },
  {
   "cell_type": "code",
   "execution_count": 12,
   "id": "748e9697-353a-4f2d-bb47-07e726045ae8",
   "metadata": {},
   "outputs": [
    {
     "data": {
      "text/plain": [
       "0"
      ]
     },
     "execution_count": 12,
     "metadata": {},
     "output_type": "execute_result"
    }
   ],
   "source": [
    "scalar.ndim"
   ]
  },
  {
   "cell_type": "code",
   "execution_count": 14,
   "id": "381df690-9adb-4513-af98-651085d67985",
   "metadata": {},
   "outputs": [
    {
     "data": {
      "text/plain": [
       "7"
      ]
     },
     "execution_count": 14,
     "metadata": {},
     "output_type": "execute_result"
    }
   ],
   "source": [
    "# Get tensor back as Python int\n",
    "scalar.item()"
   ]
  },
  {
   "cell_type": "markdown",
   "id": "0ea468f0-c31b-4d1d-88c3-a0a284ad5074",
   "metadata": {},
   "source": [
    "### Vector \n",
    "Array **unidimensionale** di numeri. Rappresenta una grandezza con magnitudine e direzione.\n",
    "**due caratteristiche di un vettore**\n",
    "* **Magnitudine (o Modulo)**: È la lunghezza o grandezza del vettore. Rappresenta quanto è \"lungo\" il vettore nello spazio. Per un vettore v in uno spazio n-dimensionale, la magnitudine si calcola come la radice quadrata della somma dei quadrati delle sue componenti:\n",
    "$||v|| = √(v₁² + v₂² + ... + vₙ²)$\n",
    "* **Direzione**: È l'orientamento del vettore nello spazio. Indica verso dove punta il vettore ed è determinata dagli angoli che il vettore forma con gli assi di riferimento. Un vettore unitario (con magnitudine 1) nella stessa direzione del vettore originale può essere ottenuto dividendo il vettore per la sua magnitudine:\n",
    "$û = v / ||v||$\n",
    "\n",
    "Queste due caratteristiche insieme definiscono completamente un vettore: quanto è lungo (magnitudine) e verso dove punta (direzione). In PyTorch e nel machine learning, queste proprietà sono fondamentali per molte operazioni, come la normalizzazione dei vettori, il calcolo di distanze e similitudini, e l'ottimizzazione dei gradienti."
   ]
  },
  {
   "cell_type": "code",
   "execution_count": 15,
   "id": "8724238a-094a-4a5f-a9ec-a2592ef92520",
   "metadata": {},
   "outputs": [
    {
     "data": {
      "text/plain": [
       "tensor([7, 7])"
      ]
     },
     "execution_count": 15,
     "metadata": {},
     "output_type": "execute_result"
    }
   ],
   "source": [
    "# vector\n",
    "vector = torch.tensor([7,7])\n",
    "vector"
   ]
  },
  {
   "cell_type": "code",
   "execution_count": 16,
   "id": "ad609e44-e173-4301-be55-3f517a1378e1",
   "metadata": {},
   "outputs": [
    {
     "data": {
      "text/plain": [
       "1"
      ]
     },
     "execution_count": 16,
     "metadata": {},
     "output_type": "execute_result"
    }
   ],
   "source": [
    "vector.ndim"
   ]
  },
  {
   "cell_type": "code",
   "execution_count": 17,
   "id": "b78a278f-c80c-4199-af4e-29c8090c09a8",
   "metadata": {},
   "outputs": [
    {
     "data": {
      "text/plain": [
       "torch.Size([2])"
      ]
     },
     "execution_count": 17,
     "metadata": {},
     "output_type": "execute_result"
    }
   ],
   "source": [
    "vector.shape"
   ]
  },
  {
   "cell_type": "markdown",
   "id": "ea1de38c-8784-4fd5-9596-030adeff246e",
   "metadata": {},
   "source": [
    "### Matrix\n",
    "Array **bidimensionale** di numeri organizzati in righe e colonne. Trasforma vettori in altri vettori.\n",
    "Dimensioni: Una matrice è caratterizzata dal numero di righe e colonne (m×n), che definiscono la sua forma."
   ]
  },
  {
   "cell_type": "code",
   "execution_count": 18,
   "id": "93467766-0ba2-4be5-9c3f-ba0c874ea7d0",
   "metadata": {},
   "outputs": [
    {
     "data": {
      "text/plain": [
       "tensor([[ 7,  8],\n",
       "        [ 9, 10]])"
      ]
     },
     "execution_count": 18,
     "metadata": {},
     "output_type": "execute_result"
    }
   ],
   "source": [
    "MATRIX = torch.tensor([[7, 8], \n",
    "                       [9, 10]])\n",
    "MATRIX"
   ]
  },
  {
   "cell_type": "code",
   "execution_count": 19,
   "id": "206ee703-135e-415a-978c-ed362e4c2f7c",
   "metadata": {},
   "outputs": [
    {
     "data": {
      "text/plain": [
       "2"
      ]
     },
     "execution_count": 19,
     "metadata": {},
     "output_type": "execute_result"
    }
   ],
   "source": [
    "MATRIX.ndim"
   ]
  },
  {
   "cell_type": "code",
   "execution_count": 20,
   "id": "c71c296b-f84c-4905-b11f-da9287642e17",
   "metadata": {},
   "outputs": [
    {
     "data": {
      "text/plain": [
       "tensor([ 9, 10])"
      ]
     },
     "execution_count": 20,
     "metadata": {},
     "output_type": "execute_result"
    }
   ],
   "source": [
    "MATRIX[1]"
   ]
  },
  {
   "cell_type": "code",
   "execution_count": 22,
   "id": "ce06cd77-cb2b-4bcd-969c-7006b2f6c88e",
   "metadata": {},
   "outputs": [
    {
     "data": {
      "text/plain": [
       "torch.Size([2, 2])"
      ]
     },
     "execution_count": 22,
     "metadata": {},
     "output_type": "execute_result"
    }
   ],
   "source": [
    "MATRIX.shape"
   ]
  },
  {
   "cell_type": "markdown",
   "id": "ebe99ad6-a251-4c79-9e46-446998f43b39",
   "metadata": {},
   "source": [
    "## TENSOR\n",
    "Generalizzazione **multidimensionale** di vettori e matrici. Un array n-dimensionale di numeri. Un vettore è un tensore di rango 1, una matrice è un tensore di rango 2, mentre un tensore può avere rango 3 o superiore. \n",
    "\n",
    "Esempio di tensore 3D: `[[[1, 2], [3, 4]], [[5, 6], [7, 8]]]`.\n",
    "\n",
    "Nel deep learning, i tensori sono l'unità fondamentale di dati: immagini (tensori 4D), sequenze di testo (tensori 3D), pesi delle reti (tensori di vari ranghi)."
   ]
  },
  {
   "cell_type": "code",
   "execution_count": 23,
   "id": "72b614a6-33bd-4340-a869-28403e395222",
   "metadata": {},
   "outputs": [
    {
     "data": {
      "text/plain": [
       "tensor([[[1, 2, 3],\n",
       "         [3, 6, 9],\n",
       "         [2, 3, 4]]])"
      ]
     },
     "execution_count": 23,
     "metadata": {},
     "output_type": "execute_result"
    }
   ],
   "source": [
    "TENSOR = torch.tensor([[[1,2,3],\n",
    "                       [3,6,9],\n",
    "                       [2,3,4]]])\n",
    "TENSOR"
   ]
  },
  {
   "cell_type": "code",
   "execution_count": 25,
   "id": "4f84d9a3-4d13-4ebd-8572-fec00548316f",
   "metadata": {},
   "outputs": [
    {
     "data": {
      "text/plain": [
       "3"
      ]
     },
     "execution_count": 25,
     "metadata": {},
     "output_type": "execute_result"
    }
   ],
   "source": [
    "TENSOR.ndim"
   ]
  },
  {
   "cell_type": "code",
   "execution_count": 26,
   "id": "e412e863-b745-46c8-bb40-f22ff1e691b1",
   "metadata": {},
   "outputs": [
    {
     "data": {
      "text/plain": [
       "torch.Size([1, 3, 3])"
      ]
     },
     "execution_count": 26,
     "metadata": {},
     "output_type": "execute_result"
    }
   ],
   "source": [
    "TENSOR.shape"
   ]
  },
  {
   "cell_type": "code",
   "execution_count": 27,
   "id": "c7f90c7e-5552-4823-a7a9-f046a37aac44",
   "metadata": {},
   "outputs": [
    {
     "data": {
      "text/plain": [
       "tensor([[1, 2, 3],\n",
       "        [3, 6, 9],\n",
       "        [2, 3, 4]])"
      ]
     },
     "execution_count": 27,
     "metadata": {},
     "output_type": "execute_result"
    }
   ],
   "source": [
    "TENSOR[0]"
   ]
  },
  {
   "cell_type": "code",
   "execution_count": 31,
   "id": "618194b4-ecbb-42a0-8755-329e8f08584d",
   "metadata": {},
   "outputs": [
    {
     "data": {
      "text/plain": [
       "tensor([3, 6, 9])"
      ]
     },
     "execution_count": 31,
     "metadata": {},
     "output_type": "execute_result"
    }
   ],
   "source": [
    "TENSOR[0][1]"
   ]
  },
  {
   "cell_type": "code",
   "execution_count": 32,
   "id": "4f56b9f2-1258-42f1-80ef-77371220db2a",
   "metadata": {},
   "outputs": [
    {
     "data": {
      "text/plain": [
       "tensor(9)"
      ]
     },
     "execution_count": 32,
     "metadata": {},
     "output_type": "execute_result"
    }
   ],
   "source": [
    "TENSOR[0][1][2]"
   ]
  },
  {
   "cell_type": "markdown",
   "id": "cb780f95-6b98-45d2-80d4-2132cb6d91a6",
   "metadata": {},
   "source": [
    "| **Name** | **What is it?** | **Number of dimensions** | **Lower or upper (usually/example)** |\n",
    "|----------|------------|--------------------------|-------------------------------------|\n",
    "| **scalar** | a single number | 0 | Lower (a) | \n",
    "| **vector** | a number with direction (e.g. wind speed with direction) but can also have many other numbers | 1 | Lower (y) |\n",
    "| **matrix** | a 2-dimensional array of numbers | 2 | Upper (Q) |\n",
    "| **tensor** | an n-dimensional array of numbers | can be any number, a 0-dimension tensor is a scalar, a 1-dimension tensor is a vector | Upper (X) |"
   ]
  },
  {
   "cell_type": "markdown",
   "id": "4ee94373-081e-4cf3-839b-67c86ab89dd7",
   "metadata": {},
   "source": [
    "## Random Tensors\n",
    "\n",
    "I tensori randomici sono importanti perchè il modo in cui le reti neurali imparano, è iniziare con un tensore pieno di numeri randomici e poi aggiustano questi numeri per una rappresentazione migliore dei dati.\n",
    "\n",
    "`Start with random numbers -> look at data -> update random numbers -> look at data -> update random numbers...`"
   ]
  },
  {
   "cell_type": "code",
   "execution_count": 34,
   "id": "8fc83cc5-68dd-491a-9b45-e81a761047d9",
   "metadata": {},
   "outputs": [
    {
     "data": {
      "text/plain": [
       "tensor([[0.1070, 0.0685, 0.2837, 0.4913],\n",
       "        [0.0442, 0.1371, 0.0126, 0.7032],\n",
       "        [0.7393, 0.0785, 0.3405, 0.2403]])"
      ]
     },
     "execution_count": 34,
     "metadata": {},
     "output_type": "execute_result"
    }
   ],
   "source": [
    "# Create a random tensor of shape(size) (3,4)\n",
    "\n",
    "random_tensor = torch.rand(3,4)\n",
    "random_tensor"
   ]
  },
  {
   "cell_type": "code",
   "execution_count": 35,
   "id": "99c9b9d8-c233-4a5a-8ba5-c97a79cde70d",
   "metadata": {},
   "outputs": [
    {
     "data": {
      "text/plain": [
       "2"
      ]
     },
     "execution_count": 35,
     "metadata": {},
     "output_type": "execute_result"
    }
   ],
   "source": [
    "random_tensor.ndim"
   ]
  },
  {
   "cell_type": "code",
   "execution_count": 36,
   "id": "e56d3741-d5a7-441e-84da-aea525f43370",
   "metadata": {},
   "outputs": [
    {
     "data": {
      "text/plain": [
       "torch.Size([3, 4])"
      ]
     },
     "execution_count": 36,
     "metadata": {},
     "output_type": "execute_result"
    }
   ],
   "source": [
    "random_tensor.shape"
   ]
  },
  {
   "cell_type": "code",
   "execution_count": 42,
   "id": "65c57a8c-078b-4b9c-b0e0-7f5597403c63",
   "metadata": {},
   "outputs": [
    {
     "data": {
      "text/plain": [
       "(torch.Size([3, 224, 224]), 3)"
      ]
     },
     "execution_count": 42,
     "metadata": {},
     "output_type": "execute_result"
    }
   ],
   "source": [
    "# create a random tensor with a similar shape to an image\n",
    "random_image_size_tensor = torch.rand(size=(3, 224,224)) # colour channels (R,G,B), height, width, \n",
    "random_image_size_tensor.shape, random_image_size_tensor.ndim"
   ]
  },
  {
   "cell_type": "markdown",
   "id": "bc51ec23-cf95-4fcc-b9c1-631d59241b4c",
   "metadata": {},
   "source": [
    "![tensore](image/00-tensor-shape-example-of-image.png)"
   ]
  },
  {
   "cell_type": "markdown",
   "id": "d7a856b6-39b7-4739-980e-088e157120c1",
   "metadata": {},
   "source": [
    "## Zeros and Ones"
   ]
  },
  {
   "cell_type": "code",
   "execution_count": 45,
   "id": "d71fe458-303d-4ae1-ba66-c0b8fb64efaa",
   "metadata": {},
   "outputs": [
    {
     "data": {
      "text/plain": [
       "tensor([[0., 0., 0., 0.],\n",
       "        [0., 0., 0., 0.],\n",
       "        [0., 0., 0., 0.]])"
      ]
     },
     "execution_count": 45,
     "metadata": {},
     "output_type": "execute_result"
    }
   ],
   "source": [
    "# Creating Tensor of all zeros (esempio di mask)\n",
    "zeros = torch.zeros(size=(3,4))\n",
    "zeros"
   ]
  },
  {
   "cell_type": "code",
   "execution_count": 48,
   "id": "f4674c35-45b6-43f5-84c9-9e129e3363a1",
   "metadata": {},
   "outputs": [
    {
     "data": {
      "text/plain": [
       "tensor([[1., 1., 1., 1.],\n",
       "        [1., 1., 1., 1.],\n",
       "        [1., 1., 1., 1.]])"
      ]
     },
     "execution_count": 48,
     "metadata": {},
     "output_type": "execute_result"
    }
   ],
   "source": [
    "# Creating Tensor of all ones\n",
    "ones = torch.ones(size=(3,4))\n",
    "ones"
   ]
  },
  {
   "cell_type": "code",
   "execution_count": 49,
   "id": "d7df7df5-dcc8-4754-ae26-136e26a8ac46",
   "metadata": {},
   "outputs": [
    {
     "data": {
      "text/plain": [
       "torch.float32"
      ]
     },
     "execution_count": 49,
     "metadata": {},
     "output_type": "execute_result"
    }
   ],
   "source": [
    "ones.dtype"
   ]
  },
  {
   "cell_type": "markdown",
   "id": "e29ad3aa-c07a-45e4-91f4-968d3e529403",
   "metadata": {},
   "source": [
    "## Creating a range of tensors and tensors-like"
   ]
  },
  {
   "cell_type": "code",
   "execution_count": 61,
   "id": "964899b3-7415-4dc4-867d-647ed1fa2fbf",
   "metadata": {},
   "outputs": [
    {
     "data": {
      "text/plain": [
       "tensor([ 0,  1,  2,  3,  4,  5,  6,  7,  8,  9, 10])"
      ]
     },
     "execution_count": 61,
     "metadata": {},
     "output_type": "execute_result"
    }
   ],
   "source": [
    "# torch.arange(start, end, step)\n",
    "one_to_ten = torch.arange(start=0,end=11, step=1)\n",
    "one_to_ten"
   ]
  },
  {
   "cell_type": "code",
   "execution_count": 60,
   "id": "e9393c67-c917-4fb0-abcb-dafdb3ddda26",
   "metadata": {},
   "outputs": [
    {
     "data": {
      "text/plain": [
       "tensor([0, 0, 0, 0, 0, 0, 0, 0, 0, 0, 0])"
      ]
     },
     "execution_count": 60,
     "metadata": {},
     "output_type": "execute_result"
    }
   ],
   "source": [
    "# Creating a tensor like\n",
    "ten_zeroes = torch.zeros_like(input=one_to_ten)\n",
    "ten_zeroes"
   ]
  },
  {
   "cell_type": "markdown",
   "id": "ea756a33-edfa-4364-8fbe-a0ff29c024b3",
   "metadata": {},
   "source": [
    "Il comando `torch.zeros_like(input=one_to_ten)` crea un nuovo tensore con:\n",
    "\n",
    "* La stessa forma (dimensioni) del tensore one_to_ten\n",
    "* Lo stesso tipo di dati (dtype) del tensore one_to_ten\n",
    "* Lo stesso dispositivo (CPU o GPU) del tensore one_to_ten\n",
    "\n",
    "Ma con tutti gli elementi inizializzati a zero.\n",
    "Per esempio:\n",
    "\n",
    "- Se `one_to_ten` è un vettore di lunghezza 10, ten_zeroes sarà un vettore di lunghezza 10 contenente solo zeri\n",
    "- Se `one_to_ten` è una matrice 3×4, ten_zeroes sarà una matrice 3×4 contenente solo zeri\n",
    "\n",
    "**Questo è molto utile quando hai bisogno di creare un tensore con le stesse caratteristiche di un tensore esistente, ma con valori diversi**. Altri metodi simili includono:\n",
    "\n",
    "- `torch.ones_like()`: come zeros_like ma riempie con 1\n",
    "- `torch.randn_like()`: stessa forma ma con valori casuali da una distribuzione normale\n",
    "- `torch.rand_like()`: stessa forma ma con valori casuali uniformi tra 0 e 1\n",
    "- `torch.empty_like()`: stessa forma ma senza inizializzare i valori (per performance)\n",
    "\n",
    "Se invece volessi creare un tensore con la stessa forma ma con un dtype o dispositivo diverso, potresti specificarlo:\n",
    "\n",
    "`pythonten_zeroes = torch.zeros_like(one_to_ten, dtype=torch.float32, device=\"mps\")`"
   ]
  },
  {
   "cell_type": "markdown",
   "id": "a21fd732-bdf8-44f9-aaec-a8385eb8a701",
   "metadata": {},
   "source": [
    "## Tensor Datatypes\n",
    "- Il `dtype` è per la **precision in computing**\n",
    "    - **Precision** is the amount of detail used to describe a number.\n",
    "      The higher the precision value (8, 16, 32), the more detail and hence data\n",
    "      used to express a number. This matters in deep learning and numerical computing because you're making so many operations, the more detail you have to calculate on, the more compute you have to use. So lower precision datatypes are generally faster to compute on but sacrifice some performance on evaluation metrics like accuracy (faster to compute but less accurate).\n",
    "- `device` what device is the tensor stored on? (usually GPU or CPU)\n",
    "- `require_grad` se vogliamo o meno calcolare i gradienti"
   ]
  },
  {
   "cell_type": "code",
   "execution_count": 64,
   "id": "710ffdf2-ada7-4a87-ad42-8048a3b5d363",
   "metadata": {},
   "outputs": [
    {
     "data": {
      "text/plain": [
       "tensor([3., 6., 9.])"
      ]
     },
     "execution_count": 64,
     "metadata": {},
     "output_type": "execute_result"
    }
   ],
   "source": [
    "# Float 32 tensor (è il default)\n",
    "float_32_tensor = torch.tensor([3.0, 6.0, 9.0],\n",
    "                              dtype=None, # What datatype is the tensor (e.g. float32 or float16)\n",
    "                              device=None, # defaults to None, which uses the default tensor type\n",
    "                              requires_grad=False) # if True, operations performed on the tensor are recorded\n",
    "float_32_tensor"
   ]
  },
  {
   "cell_type": "code",
   "execution_count": 63,
   "id": "55ea6546-a4bf-4556-a160-5d61066b6d6f",
   "metadata": {},
   "outputs": [
    {
     "data": {
      "text/plain": [
       "torch.float32"
      ]
     },
     "execution_count": 63,
     "metadata": {},
     "output_type": "execute_result"
    }
   ],
   "source": [
    "float_32_tensor.dtype"
   ]
  },
  {
   "cell_type": "code",
   "execution_count": 65,
   "id": "6d4f742b-6431-445e-a0c4-eb39fb318fa0",
   "metadata": {},
   "outputs": [
    {
     "data": {
      "text/plain": [
       "tensor([3., 6., 9.], dtype=torch.float16)"
      ]
     },
     "execution_count": 65,
     "metadata": {},
     "output_type": "execute_result"
    }
   ],
   "source": [
    "float_16_tensor = float_32_tensor.type(torch.float16)\n",
    "float_16_tensor"
   ]
  },
  {
   "cell_type": "markdown",
   "id": "7f4a8903-797d-4451-b044-c82ba9dfb67b",
   "metadata": {},
   "source": [
    "## Getting Tensor Attributes\n",
    "- check tensor datatype `tensor.dtype`\n",
    "- check tensor shape `tensor.shape`\n",
    "- check tensor device(GPU|TPU) `tensor.device`"
   ]
  },
  {
   "cell_type": "code",
   "execution_count": 66,
   "id": "2aefdff5-601d-461f-87f0-65d89deb5afb",
   "metadata": {},
   "outputs": [
    {
     "data": {
      "text/plain": [
       "tensor([[0.7819, 0.0979, 0.0121, 0.7729],\n",
       "        [0.7100, 0.4248, 0.3079, 0.2666],\n",
       "        [0.6290, 0.9386, 0.5207, 0.8704]])"
      ]
     },
     "execution_count": 66,
     "metadata": {},
     "output_type": "execute_result"
    }
   ],
   "source": [
    "# Create a tensor\n",
    "some_tensor = torch.rand(3,4)\n",
    "some_tensor"
   ]
  },
  {
   "cell_type": "code",
   "execution_count": 67,
   "id": "6043d575-549a-4ebb-b547-d8bd7f0fcefd",
   "metadata": {},
   "outputs": [
    {
     "name": "stdout",
     "output_type": "stream",
     "text": [
      "tensor([[0.7819, 0.0979, 0.0121, 0.7729],\n",
      "        [0.7100, 0.4248, 0.3079, 0.2666],\n",
      "        [0.6290, 0.9386, 0.5207, 0.8704]])\n",
      "Datatype of tensor: torch.float32\n",
      "Shape of tensor: torch.Size([3, 4])\n",
      "Device tensor is on: cpu\n"
     ]
    }
   ],
   "source": [
    "# Find out details about some tensor\n",
    "print(some_tensor)\n",
    "print(f\"Datatype of tensor: {some_tensor.dtype}\")\n",
    "print(f\"Shape of tensor: {some_tensor.shape}\")\n",
    "print(f\"Device tensor is on: {some_tensor.device}\")"
   ]
  },
  {
   "cell_type": "code",
   "execution_count": null,
   "id": "f8ea7865-b5c2-4a3d-8338-718124c36a98",
   "metadata": {},
   "outputs": [],
   "source": []
  }
 ],
 "metadata": {
  "kernelspec": {
   "display_name": "Python 3 (ipykernel)",
   "language": "python",
   "name": "python3"
  },
  "language_info": {
   "codemirror_mode": {
    "name": "ipython",
    "version": 3
   },
   "file_extension": ".py",
   "mimetype": "text/x-python",
   "name": "python",
   "nbconvert_exporter": "python",
   "pygments_lexer": "ipython3",
   "version": "3.10.17"
  }
 },
 "nbformat": 4,
 "nbformat_minor": 5
}
