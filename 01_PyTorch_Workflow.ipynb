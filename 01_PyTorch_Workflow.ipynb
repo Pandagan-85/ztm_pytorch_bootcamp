{
 "cells": [
  {
   "cell_type": "markdown",
   "id": "8757f748-f5b5-48d1-9135-604a88e2a5b3",
   "metadata": {},
   "source": [
    "# PyTorch Workflow\n",
    "\n",
    "Esplorazione di un esempio di PyTorch end-to-end workflow\n",
    "\n",
    "![workflow](image/01_a_pytorch_workflow.png)\n",
    "\n",
    "\n",
    "| Topic\t| Contents|\n",
    "|-------|---------|\n",
    "| 1. Getting data ready | Data can be almost anything but to get started we're going to create a simple straight line| \n",
    "| 2. Building a model | Here we'll create a model to learn patterns in the data, we'll also choose a loss function, optimizer and build a training loop.| \n",
    "| 3. Fitting the model to data (training) | We've got data and a model, now let's let the model (try to) find patterns in the (training) data.| \n",
    "| 4. Making predictions and evaluating a model (inference) | Our model's found patterns in the data, let's compare its findings to the actual (testing) data.| \n",
    "| 5. Saving and loading a model | You may want to use your model elsewhere, or come back to it later, here we'll cover that.| \n",
    "| 6. Putting it all together | Let's take all of the above and combine it.| "
   ]
  },
  {
   "cell_type": "code",
   "execution_count": 274,
   "id": "d3a053a5-1180-4ee2-ad75-d903a118b2c4",
   "metadata": {},
   "outputs": [
    {
     "data": {
      "text/plain": [
       "'2.7.0'"
      ]
     },
     "execution_count": 274,
     "metadata": {},
     "output_type": "execute_result"
    }
   ],
   "source": [
    "import torch\n",
    "from torch import nn # nn contains all of PyTorch's building blocks for neural networks\n",
    "import matplotlib.pyplot as plt\n",
    "\n",
    "# Check pytorch version\n",
    "\n",
    "torch.__version__"
   ]
  },
  {
   "cell_type": "markdown",
   "id": "7661ccb9-c53e-4ff3-a0c5-5c32768cb187",
   "metadata": {},
   "source": [
    "## 1. Data (Prep and loading)\n",
    "\n",
    "Nel machine learning i dati possono essere quasi qualsiasi cosa:\n",
    "* Tabelle excel\n",
    "* Immagini di ogni tipo\n",
    "* Video\n",
    "* Audio\n",
    "* DNA\n",
    "* Testo\n",
    "\n",
    "Il Machine Learning è un gioco composto da due parti:\n",
    "1. Portare i dati in una forma numerica\n",
    "2. Costruire un modello che impara pattern da queste rappresentazioni numeriche.\n",
    "\n",
    "![ML](image/01-machine-learning-a-game-of-two-parts.png)\n",
    "\n",
    "Useremo la regressione lineare per creare dei dati\n",
    "$Y_{i}=f(X_i, \\beta)+e_i$\n",
    "\n",
    "* $Y_{i}$ è la variabile dipendente\n",
    "* $f$ è la funzione\n",
    "* $X_i$ è la variabile indipendente\n",
    "* $\\beta$ sono i parametri sconosciuti\n",
    "* $e_i$ errori\n",
    "\n",
    "Una regressione lineare ha la formula $$Y=a+bX$$ dove $X$ è la va vaiabile indipendente e $Y$ qyella dipendente.\n",
    "$b$ è la slope (pendenza) e $a$ è la sua intercetta (il valore di $y$ quando $x=0$)\n",
    "\n",
    "**Useremo la formula della regressione lineare per costurire una linea retta con dei **parametri** _conosciuti_"
   ]
  },
  {
   "cell_type": "code",
   "execution_count": 275,
   "id": "53a0dd22-6671-41ac-a811-a2239584a660",
   "metadata": {},
   "outputs": [
    {
     "data": {
      "text/plain": [
       "(tensor([[0.0000],\n",
       "         [0.0200],\n",
       "         [0.0400],\n",
       "         [0.0600],\n",
       "         [0.0800],\n",
       "         [0.1000],\n",
       "         [0.1200],\n",
       "         [0.1400],\n",
       "         [0.1600],\n",
       "         [0.1800]]),\n",
       " tensor([[0.3000],\n",
       "         [0.3140],\n",
       "         [0.3280],\n",
       "         [0.3420],\n",
       "         [0.3560],\n",
       "         [0.3700],\n",
       "         [0.3840],\n",
       "         [0.3980],\n",
       "         [0.4120],\n",
       "         [0.4260]]))"
      ]
     },
     "execution_count": 275,
     "metadata": {},
     "output_type": "execute_result"
    }
   ],
   "source": [
    "# Create *Known* Parameters\n",
    "\n",
    "weight = 0.7 # weigth = b in te formula\n",
    "bias = 0.3 # bias = a in the formula\n",
    "\n",
    "# Create\n",
    "\n",
    "start = 0\n",
    "end = 1\n",
    "step = 0.02\n",
    "\n",
    "X = torch.arange(start,end,step).unsqueeze(dim=1) # trasforma il tensore da 1D shape [50] a 2D shape [50,1](diventa una matrice a una sola colonna)\n",
    "y = weight * X + bias\n",
    "\n",
    "X[:10], Y[:10]"
   ]
  },
  {
   "cell_type": "code",
   "execution_count": 276,
   "id": "c6905f39-747c-4b21-8239-a0a0ed8cd23e",
   "metadata": {},
   "outputs": [
    {
     "data": {
      "text/plain": [
       "(50, 50)"
      ]
     },
     "execution_count": 276,
     "metadata": {},
     "output_type": "execute_result"
    }
   ],
   "source": [
    "len(X), len(y)"
   ]
  },
  {
   "cell_type": "markdown",
   "id": "fb6a1d69-23d7-4ae4-897a-a70da3911f3a",
   "metadata": {},
   "source": [
    "## 1. Splitting data into training and test sets\n",
    "\n",
    "![3 sets](image/3_sets.png)\n",
    "\n",
    "| Split | Purpose |\tAmount of total data | How often is it used? |\n",
    "|-------|---------|----------------------|-----------------------|\n",
    "| **Training set** | The model learns from this data (like the course materials you study during the semester). | ~60-80% | Always |\n",
    "| **Validation set** | The model gets tuned on this data (like the practice exam you take before the final exam). | ~10-20% | Often but not always |\n",
    "| **Testing set** | The model gets evaluated on this data to test what it has learned (like the final exam you take at the end of the semester). | ~10-20% | Always |"
   ]
  },
  {
   "cell_type": "code",
   "execution_count": 277,
   "id": "68af2a1a-03f6-4994-9f4a-43324bd8b7ee",
   "metadata": {},
   "outputs": [
    {
     "data": {
      "text/plain": [
       "(40, 40, 10, 10)"
      ]
     },
     "execution_count": 277,
     "metadata": {},
     "output_type": "execute_result"
    }
   ],
   "source": [
    "# Create a train/test split\n",
    "train_split= int(0.8 * len(X))\n",
    "X_train, y_train = X[:train_split], y[:train_split]\n",
    "X_test, y_test = X[train_split:], y[train_split:]\n",
    "\n",
    "len(X_train), len(y_train), len(X_test), len(y_test)"
   ]
  },
  {
   "cell_type": "markdown",
   "id": "01f164b3-0ca6-41f3-be2b-1a0f440272ac",
   "metadata": {},
   "source": [
    "### Visualize, visualize, visualize"
   ]
  },
  {
   "cell_type": "code",
   "execution_count": 278,
   "id": "7762a98b-7caf-4064-ae18-3636c9475409",
   "metadata": {},
   "outputs": [],
   "source": [
    "def plot_predictions(train_data=X_train,\n",
    "                    train_labels = y_train,\n",
    "                    test_data = X_test,\n",
    "                    test_labels = y_test,\n",
    "                    predictions=None):\n",
    "    \"\"\"\n",
    "    Plots training data, test data and compares predictions.\n",
    "    \"\"\"\n",
    "\n",
    "    plt.figure(figsize=(10,7))\n",
    "\n",
    "    plt.scatter(train_data,train_labels, c=\"b\", s=4, label=\"Training Data\")\n",
    "\n",
    "    plt.scatter(test_data,test_labels, c=\"g\", s=4, label=\"Testing Data\")\n",
    "\n",
    "    if predictions is not None:\n",
    "        plt.scatter(test_data, predictions, c=\"r\", s=4, label=\"Predictions\")\n",
    "\n",
    "    plt.legend(prop={\"size\":14})"
   ]
  },
  {
   "cell_type": "code",
   "execution_count": 279,
   "id": "4245cdc8-889d-460a-938b-6d8d4272189f",
   "metadata": {},
   "outputs": [
    {
     "data": {
      "image/png": "[encoded data removed]",
      "text/plain": [
       "<Figure size 1000x700 with 1 Axes>"
      ]
     },
     "metadata": {},
     "output_type": "display_data"
    }
   ],
   "source": [
    "plot_predictions()"
   ]
  },
  {
   "cell_type": "markdown",
   "id": "63baef13-3eff-487c-b6d1-570348cea191",
   "metadata": {},
   "source": [
    "## 2 Build model\n",
    "* Iniziamo con valori randomici (weight & bias)\n",
    "* Guarderà ai nostri training data e aggiusterà i valori randomici per rappresentare meglio i valori ideali (wight & bias usati per crear ei dati)\n",
    "\n",
    "Questa avverrà attraverso due algoritmi principali:\n",
    "\n",
    "* **Gradient descend** (calcolo loss, calcolo dei delle derivate parziali rispetto la losso per il gradiente)\n",
    "* **Backpropagation** ( I valori verranno passati all'indietro per sistemare i nuovi pesi, per determinare quanto ogni peso contribuisce all'errore)"
   ]
  },
  {
   "cell_type": "code",
   "execution_count": 280,
   "id": "aff6a07c-899c-4360-b306-0d0fce7a7e3d",
   "metadata": {},
   "outputs": [],
   "source": [
    "# Create a Linear Regression model class\n",
    "class LinearRegressionModel(nn.Module): # <- almost everything in PyTorch is a nn.Module (think of this as neural network lego blocks)\n",
    "    def __init__(self):\n",
    "        super().__init__() \n",
    "        self.weights = nn.Parameter(torch.randn(1, # <- start with random weights (this will get adjusted as the model learns)\n",
    "                                                dtype=torch.float), # <- PyTorch loves float32 by default\n",
    "                                   requires_grad=True) # <- can we update this value with gradient descent?)\n",
    "\n",
    "        self.bias = nn.Parameter(torch.randn(1, # <- start with random bias (this will get adjusted as the model learns)\n",
    "                                            dtype=torch.float), # <- PyTorch loves float32 by default\n",
    "                                requires_grad=True) # <- can we update this value with gradient descent?))\n",
    "\n",
    "    # Forward defines the computation in the model\n",
    "    def forward(self, x: torch.Tensor) -> torch.Tensor: # <- \"x\" is the input data (e.g. training/testing features)\n",
    "        return self.weights * x + self.bias # <- this is the linear regression formula (y = m*x + b)"
   ]
  },
  {
   "cell_type": "markdown",
   "id": "d2888fd3-8fe4-4d40-a069-4990ccc83110",
   "metadata": {},
   "source": [
    "PyTorch ha **4 moduli essenziali**.\n",
    "\n",
    "Sono `torch.nn`, `torch.optim`, `torch.utils.data.Dataset` e `torch.utils.data.DataLoader`. \n",
    "\n",
    "| `PyTorch module` | What does it do?|\n",
    "|------------------|------------------|\n",
    "| `torch.nn` |\tContiene tutti gli elementi costitutivi dei grafici computazionali (essenzialmente una serie di calcoli eseguiti in un modo particolare).|\n",
    "| `torch.nn.Parameter`\t | Memorizza i tensori che possono essere utilizzati con `nn.Module`. Se `requires_grad=True`, i gradienti (utilizzati per aggiornare i parametri del modello tramite la discesa del gradiente) vengono calcolati automaticamente, questo viene spesso definito \"autograd\".|\n",
    "| `torch.nn.Module` | \tLa classe base per tutti i moduli di rete neurale, tutti i componenti fondamentali per le reti neurali sono sottoclassi. Se stai costruendo una rete neurale in PyTorch, i tuoi modelli dovrebbero essere sottoclassi di `nn.Module`. Richiede l'implementazione di un metodo `forward()`.|\n",
    "| `torch.optim`\t | Contiene vari algoritmi di ottimizzazione (che indicano ai parametri del modello memorizzati in `nn.Parameter` come apportare le modifiche migliori per migliorare la discesa del gradiente e, di conseguenza, ridurre la perdita).|\n",
    "| `def forward()`\t | Tutte le sottoclassi di `nn.Module` richiedono un metodo `forward()`, che definisce il calcolo che verrà eseguito sui dati passati al particolare nn.Module (ad esempio la formula di regressione lineare di cui sopra). |\n",
    "\n",
    "\n",
    "Quasi ogni cosa in una rete neurale con PyTorch viene da `torch.nn`,\n",
    "\n",
    "* `nn.Module` contains the larger building blocks (layers)\n",
    "* `nn.Parameter` contains the smaller parameters like weights and biases (put these together to make nn.Module(s))\n",
    "* `forward()` tells the larger blocks how to make calculations on inputs (tensors full of data) within nn.Module(s)\n",
    "* `torch.optim` contains optimization methods on how to improve the parameters within nn.Parameter to better represent input data\n",
    "\n",
    "![](image/01-pytorch-linear-model-annotated.png)"
   ]
  },
  {
   "cell_type": "markdown",
   "id": "a0eb8a13-1e72-477c-8d6c-8f696ae3f10b",
   "metadata": {},
   "source": [
    "### Checking the content of out PyTotch Model\n",
    "\n",
    "`.parameters()`"
   ]
  },
  {
   "cell_type": "code",
   "execution_count": 281,
   "id": "085ca243-8539-45c7-91d6-e02b959bb1e5",
   "metadata": {},
   "outputs": [
    {
     "data": {
      "text/plain": [
       "[Parameter containing:\n",
       " tensor([0.3367], requires_grad=True),\n",
       " Parameter containing:\n",
       " tensor([0.1288], requires_grad=True)]"
      ]
     },
     "execution_count": 281,
     "metadata": {},
     "output_type": "execute_result"
    }
   ],
   "source": [
    "# Create a random seed\n",
    "\n",
    "torch.manual_seed(42)\n",
    "\n",
    "# Create an istance of the model\n",
    "model_0 = LinearRegressionModel()\n",
    "\n",
    "# Check out the parameters\n",
    "list(model_0.parameters())"
   ]
  },
  {
   "cell_type": "code",
   "execution_count": 282,
   "id": "3d8219d0-113c-4ec1-914d-26b6b53f2036",
   "metadata": {},
   "outputs": [
    {
     "data": {
      "text/plain": [
       "OrderedDict([('weights', tensor([0.3367])), ('bias', tensor([0.1288]))])"
      ]
     },
     "execution_count": 282,
     "metadata": {},
     "output_type": "execute_result"
    }
   ],
   "source": [
    "# List named parameters\n",
    "model_0.state_dict()"
   ]
  },
  {
   "cell_type": "code",
   "execution_count": 283,
   "id": "59ec304b-c48f-4a0a-96c8-4ad1d3bf4d06",
   "metadata": {},
   "outputs": [
    {
     "data": {
      "text/plain": [
       "(0.7, 0.3)"
      ]
     },
     "execution_count": 283,
     "metadata": {},
     "output_type": "execute_result"
    }
   ],
   "source": [
    "weight, bias"
   ]
  },
  {
   "cell_type": "markdown",
   "id": "ed78f08d-d6ac-47bc-b452-b309f418689b",
   "metadata": {},
   "source": [
    "Il nostro goal è fare in modo che i valori siano il più vicini possibile a quelli da noi creati (che nella realtà non sono cosciuti)"
   ]
  },
  {
   "cell_type": "markdown",
   "id": "1affa63c-4d68-4d65-bed8-d417186c4531",
   "metadata": {},
   "source": [
    "## Making prediction using `torch.inference_mode()`\n",
    "\n",
    "Per controllare il potere di predizione, veidamo quanto bene predice `y_test` basandosi su `X_test`\n",
    "Quando passiamo dei dati al nostro modello, lui girerà attraverso il metodo `forward()`"
   ]
  },
  {
   "cell_type": "code",
   "execution_count": 284,
   "id": "39fdc7eb-4452-4366-bf5d-485abeda99ac",
   "metadata": {},
   "outputs": [
    {
     "data": {
      "text/plain": [
       "tensor([[0.3982],\n",
       "        [0.4049],\n",
       "        [0.4116],\n",
       "        [0.4184],\n",
       "        [0.4251],\n",
       "        [0.4318],\n",
       "        [0.4386],\n",
       "        [0.4453],\n",
       "        [0.4520],\n",
       "        [0.4588]])"
      ]
     },
     "execution_count": 284,
     "metadata": {},
     "output_type": "execute_result"
    }
   ],
   "source": [
    "# Make prediction with model\n",
    "\n",
    "with torch.inference_mode():\n",
    "    y_preds = model_0(X_test)\n",
    "\n",
    "y_preds"
   ]
  },
  {
   "cell_type": "code",
   "execution_count": 285,
   "id": "bfcdc501-43e6-4083-92c3-f85876643f13",
   "metadata": {},
   "outputs": [
    {
     "data": {
      "image/png": "[encoded data removed]",
      "text/plain": [
       "<Figure size 1000x700 with 1 Axes>"
      ]
     },
     "metadata": {},
     "output_type": "display_data"
    }
   ],
   "source": [
    "plot_predictions(predictions=y_preds.cpu())"
   ]
  },
  {
   "cell_type": "markdown",
   "id": "aa23c141-8a97-45d9-ad70-7cb323fef525",
   "metadata": {},
   "source": [
    "### 3 Train model\n",
    "L'intera idea di training per un modello è muoversi da *unknown* parameters (random) a *know* parameters.\n",
    "Ovvero da una rappresentazione *scarsa* (i punti rossi) a una più accurata.\n",
    "\n",
    "Un modo per misurare quanto male un modello predice i valori è usare la **loss function**\n",
    "\n",
    "Una loss function può essere anche chiamata cost function o criterion function.\n",
    "\n",
    "**Optimizer** prende la loss di un modello e aggiusta i parametri del modello per migliorare la loss function.\n",
    "\n",
    "\n",
    "\n",
    "\n",
    "| Function\t| What does it do?\t| Where does it live in PyTorch?\t| Common values |\n",
    "|-----------|-------------------|-----------------------------------|---------------|\n",
    "| **Loss function**\t| Measures how wrong your model's predictions (e.g. `y_preds`) are compared to the truth labels (e.g. `y_tes`t). Lower the better.\t| PyTorch has plenty of built-in loss functions in `torch.nn`.\t| Mean absolute error (MAE) for regression problems (`torch.nn.L1Loss()`). Binary cross entropy for binary classification problems (`torch.nn.BCELoss()`). |\n",
    "| **Optimizer**\t| Tells your model how to update its internal parameters to best lower the loss.\t| You can find various optimization function implementations in torch.optim.\t| Stochastic gradient descent (`torch.optim.SGD()`). Adam optimizer (`torch.optim.Adam()`). |\n",
    "\n",
    "\n",
    "![mae](image/01-mae-loss-annotated.png)\n",
    "\n",
    "In questo caso useremo `torch.nn.L1loss` che misura la differenza assoluta tre due punti (pred & label).\n",
    "\n",
    "E per l'ottimizzatore `torch.optim.SGD(params, lr)`\n",
    "- `params` is the target model parameters you'd like to optimize (e.g. the `weights` and `bias` values we randomly set before).\n",
    "- `lr` is the **learning rate** you'd like the optimizer to update the parameters at, higher means the optimizer will try larger updates (these can sometimes be too large and the optimizer will fail to work), lower means the optimizer will try smaller updates (these can sometimes be too small and the optimizer will take too long to find the ideal values). The learning rate is considered a **hyperparameter** (because it's set by a machine learning engineer). Common starting values for the learning rate are `0.01`, `0.001`, `0.0001`, however, these can also be adjusted over time (this is called learning rate scheduling)."
   ]
  },
  {
   "cell_type": "code",
   "execution_count": 108,
   "id": "05631e4a-7446-45d7-9bbc-5b41a1536b38",
   "metadata": {},
   "outputs": [],
   "source": [
    "# Setup a loss function\n",
    "loss_fn = nn.L1Loss() # MAE loss is same as L1Loss\n",
    "\n",
    "# Setup an optimizer (SGD -> Stochastic Gradient Descent)\n",
    "\n",
    "optimizer = torch.optim.SGD(params=model_0.parameters(), # parameters of target model to optimize\n",
    "                            lr=0.01) # learning rate (how much the optimizer should change parameters at each step, higher=more (less stable), lower=less (might take a long time))"
   ]
  },
  {
   "cell_type": "markdown",
   "id": "1eae1976-5423-4c3c-bdb9-782fce60ebbb",
   "metadata": {},
   "source": [
    "In PyTorch abbiamo bisogno:\n",
    "- Un training loop\n",
    "- Un test loop"
   ]
  },
  {
   "cell_type": "markdown",
   "id": "6641a5c1-b1ab-446b-8a04-ee4585372d8b",
   "metadata": {},
   "source": [
    "## Buildign a training loop and testing loop in PyTorch\n",
    "0. Loop attraverso i dati\n",
    "1. Forward pass (i dati che si muovono attraverso il nostro metodo `forward()` da input -> output, to make predictions on data)\n",
    "2. Calculate Loss (comparare le predizioni alle true labels)\n",
    "3. Optimizer zero grad\n",
    "4. Loss Backward (**Back propagation**) - muoverci all'indietro nel network per calcolare i gradienti di ogni parametro del nostro modello rispettando la loss\n",
    "5. Optimizer Step - Aggiustare i paremeti del modello per migliorare la loss (**gradient descent**)\n",
    "\n",
    "| Number | Step name | What does it do?\t| Code example |\n",
    "|--------|-----------|------------------|---------------|\n",
    "| 1 | **Forward pas**s | The model goes through all of the training data once, performing its forward() function calculations.\t | model(x_train) |\n",
    "| 2 | **Calculate the loss** | The model's outputs (predictions) are compared to the ground truth and evaluated to see how wrong they are. | `loss = loss_fn(y_pred, y_train)`|\n",
    "| 3 | **Zero gradients** | The optimizers gradients are set to zero (they are accumulated by default) so they can be recalculated for the specific training step. | `optimizer.zero_grad()`|\n",
    "| 4 | **Perform backpropagation on the loss** | Computes the gradient of the loss with respect for every model parameter to be updated (each parameter with requires_grad=True). This is known as backpropagation, hence \"backwards\". | `loss.backward()`|\n",
    "| 5 | **Update the optimizer (gradient descent**) | Update the parameters with requires_grad=True with respect to the loss gradients in order to improve them. | `optimizer.step()`|"
   ]
  },
  {
   "cell_type": "code",
   "execution_count": 109,
   "id": "146cb277-e4d7-457b-9297-9482acb728ed",
   "metadata": {},
   "outputs": [
    {
     "data": {
      "text/plain": [
       "[Parameter containing:\n",
       " tensor([0.3367], requires_grad=True),\n",
       " Parameter containing:\n",
       " tensor([0.1288], requires_grad=True)]"
      ]
     },
     "execution_count": 109,
     "metadata": {},
     "output_type": "execute_result"
    }
   ],
   "source": [
    "list(model_0.parameters())"
   ]
  },
  {
   "cell_type": "code",
   "execution_count": 110,
   "id": "6ed05582-3052-4eb1-8a57-d797475f7380",
   "metadata": {},
   "outputs": [
    {
     "data": {
      "text/plain": [
       "(0.7, 0.3)"
      ]
     },
     "execution_count": 110,
     "metadata": {},
     "output_type": "execute_result"
    }
   ],
   "source": [
    "weight, bias"
   ]
  },
  {
   "cell_type": "code",
   "execution_count": 111,
   "id": "266dffd3-6584-44c3-8450-f8ab29fe78a7",
   "metadata": {},
   "outputs": [
    {
     "name": "stdout",
     "output_type": "stream",
     "text": [
      "Epoch: 0 | Loss: 0.31288135051727295 | Test loss: 0.48106518387794495\n",
      "OrderedDict([('weights', tensor([0.3406])), ('bias', tensor([0.1388]))])\n",
      "Epoch: 10 | Loss: 0.1976713389158249 | Test loss: 0.3463551998138428\n",
      "OrderedDict([('weights', tensor([0.3796])), ('bias', tensor([0.2388]))])\n",
      "Epoch: 20 | Loss: 0.08908725529909134 | Test loss: 0.2172965705394745\n",
      "OrderedDict([('weights', tensor([0.4184])), ('bias', tensor([0.3333]))])\n",
      "Epoch: 30 | Loss: 0.053148530423641205 | Test loss: 0.14464019238948822\n",
      "OrderedDict([('weights', tensor([0.4512])), ('bias', tensor([0.3768]))])\n",
      "Epoch: 40 | Loss: 0.04543796554207802 | Test loss: 0.11360953748226166\n",
      "OrderedDict([('weights', tensor([0.4748])), ('bias', tensor([0.3868]))])\n",
      "Epoch: 50 | Loss: 0.04167863354086876 | Test loss: 0.09919948130846024\n",
      "OrderedDict([('weights', tensor([0.4938])), ('bias', tensor([0.3843]))])\n",
      "Epoch: 60 | Loss: 0.03818932920694351 | Test loss: 0.08886633813381195\n",
      "OrderedDict([('weights', tensor([0.5116])), ('bias', tensor([0.3788]))])\n",
      "Epoch: 70 | Loss: 0.03476089984178543 | Test loss: 0.0805937722325325\n",
      "OrderedDict([('weights', tensor([0.5288])), ('bias', tensor([0.3718]))])\n",
      "Epoch: 80 | Loss: 0.03132382780313492 | Test loss: 0.07232122868299484\n",
      "OrderedDict([('weights', tensor([0.5459])), ('bias', tensor([0.3648]))])\n",
      "Epoch: 90 | Loss: 0.027887403964996338 | Test loss: 0.06473556160926819\n",
      "OrderedDict([('weights', tensor([0.5629])), ('bias', tensor([0.3573]))])\n",
      "Epoch: 100 | Loss: 0.024458955973386765 | Test loss: 0.056463055312633514\n",
      "OrderedDict([('weights', tensor([0.5800])), ('bias', tensor([0.3503]))])\n",
      "Epoch: 110 | Loss: 0.021020209416747093 | Test loss: 0.04819049686193466\n",
      "OrderedDict([('weights', tensor([0.5972])), ('bias', tensor([0.3433]))])\n",
      "Epoch: 120 | Loss: 0.01758546754717827 | Test loss: 0.04060482233762741\n",
      "OrderedDict([('weights', tensor([0.6141])), ('bias', tensor([0.3358]))])\n",
      "Epoch: 130 | Loss: 0.014155390672385693 | Test loss: 0.03233228251338005\n",
      "OrderedDict([('weights', tensor([0.6313])), ('bias', tensor([0.3288]))])\n",
      "Epoch: 140 | Loss: 0.010716589167714119 | Test loss: 0.024059753865003586\n",
      "OrderedDict([('weights', tensor([0.6485])), ('bias', tensor([0.3218]))])\n",
      "Epoch: 150 | Loss: 0.0072835348546504974 | Test loss: 0.016474086791276932\n",
      "OrderedDict([('weights', tensor([0.6654])), ('bias', tensor([0.3143]))])\n",
      "Epoch: 160 | Loss: 0.003851778106763959 | Test loss: 0.008201557211577892\n",
      "OrderedDict([('weights', tensor([0.6826])), ('bias', tensor([0.3073]))])\n",
      "Epoch: 170 | Loss: 0.00893248151987791 | Test loss: 0.005023092031478882\n",
      "OrderedDict([('weights', tensor([0.6951])), ('bias', tensor([0.2993]))])\n",
      "Epoch: 180 | Loss: 0.00893248151987791 | Test loss: 0.005023092031478882\n",
      "OrderedDict([('weights', tensor([0.6951])), ('bias', tensor([0.2993]))])\n",
      "Epoch: 190 | Loss: 0.00893248151987791 | Test loss: 0.005023092031478882\n",
      "OrderedDict([('weights', tensor([0.6951])), ('bias', tensor([0.2993]))])\n"
     ]
    }
   ],
   "source": [
    "torch.manual_seed(42)\n",
    "\n",
    "# An epoch is oine loop throug the data\n",
    "epochs = 200 # è un iperparametro perché è impostato da noi\n",
    "\n",
    "# tracking different values\n",
    "epoch_count = []\n",
    "loss_values = []\n",
    "test_loss_values = []\n",
    "\n",
    "\n",
    "### Trainining\n",
    "# 0. loop through the data\n",
    "for epoch in range(epochs):\n",
    "    # set the model to training mode\n",
    "    model_0.train() # imposta tutti i parametri che richiedono i gradienti\n",
    "\n",
    "    # 1 Forward pass\n",
    "    y_pred = model_0(X_train)\n",
    "\n",
    "    # 2 calculate loss\n",
    "    loss = loss_fn(y_pred, y_train)\n",
    "    # print(f\"loss {loss}\")\n",
    "\n",
    "    # 3 Optimizer zero grad\n",
    "    optimizer.zero_grad()\n",
    "\n",
    "    # 4 perform backpropagation on the loss \n",
    "    loss.backward()\n",
    "\n",
    "    # 5 step the optimizer (gradient descent)\n",
    "    optimizer.step() # di defatult si accumula nle loop, quindi dobbiamo riportarli a zero nello step 3\n",
    "\n",
    "    ### Testing\n",
    "    model_0.eval() # spegne diverse impostazioni che servono per il testing e valutazione (dropout / batch norm layers)\n",
    "    with torch.inference_mode(): # spegne il tracciamento dei gradienti che non serve in questa case\n",
    "        # 1 forward\n",
    "        test_pred = model_0(X_test)\n",
    "\n",
    "        # 2 calculate loss\n",
    "        test_loss = loss_fn(test_pred, y_test)\n",
    "    if epoch % 10 == 0:\n",
    "        epoch_count.append(epoch)\n",
    "        loss_values.append(loss)\n",
    "        test_loss_values.append(test_loss)\n",
    "        print(f\"Epoch: {epoch} | Loss: {loss} | Test loss: {test_loss}\" )\n",
    "\n",
    "        # Print out model state_dict()\n",
    "        print(model_0.state_dict())"
   ]
  },
  {
   "cell_type": "code",
   "execution_count": 86,
   "id": "66acac5b-aa20-44e1-9724-9aed95156d69",
   "metadata": {},
   "outputs": [],
   "source": [
    "# with torch.inference_mode():\n",
    "    # y_preds_news = model_0(X_test)"
   ]
  },
  {
   "cell_type": "code",
   "execution_count": 112,
   "id": "3744cc23-2e50-4ef8-a9c0-5a224f278696",
   "metadata": {},
   "outputs": [
    {
     "data": {
      "image/png": "[encoded data removed]",
      "text/plain": [
       "<Figure size 1000x700 with 1 Axes>"
      ]
     },
     "metadata": {},
     "output_type": "display_data"
    }
   ],
   "source": [
    "plot_predictions(predictions=y_preds)"
   ]
  },
  {
   "cell_type": "code",
   "execution_count": 113,
   "id": "1e25da23-d1d1-48dd-a22b-c91a3c590607",
   "metadata": {},
   "outputs": [
    {
     "data": {
      "image/png": "[encoded data removed]",
      "text/plain": [
       "<Figure size 1000x700 with 1 Axes>"
      ]
     },
     "metadata": {},
     "output_type": "display_data"
    }
   ],
   "source": [
    "plot_predictions(predictions=test_pred)"
   ]
  },
  {
   "cell_type": "code",
   "execution_count": 120,
   "id": "06423f4b-e295-44c0-b75b-4ad17c435922",
   "metadata": {},
   "outputs": [
    {
     "data": {
      "text/plain": [
       "<matplotlib.legend.Legend at 0x13d91be80>"
      ]
     },
     "execution_count": 120,
     "metadata": {},
     "output_type": "execute_result"
    },
    {
     "data": {
      "image/png": "[encoded data removed]",
      "text/plain": [
       "<Figure size 640x480 with 1 Axes>"
      ]
     },
     "metadata": {},
     "output_type": "display_data"
    }
   ],
   "source": [
    "import numpy as np\n",
    "# usiamo numpy perché i loss_values sono tensori\n",
    "# Plot the loss curves\n",
    "plt.plot(epoch_count, np.array(torch.tensor(loss_values).cpu().numpy()), label = \"Train loss\")\n",
    "plt.plot(epoch_count, test_loss_values, label=\"Test loss\")\n",
    "plt.title(\"Training and test loss curve\")\n",
    "plt.ylabel(\"Loss\")\n",
    "plt.xlabel(\"Epochs\")\n",
    "plt.legend()"
   ]
  },
  {
   "cell_type": "markdown",
   "id": "86a61d73-8962-4a5f-a637-128f5b6c7ae2",
   "metadata": {},
   "source": [
    "## Saving a model in PyTorch\n",
    "\n",
    "CI sono 3 metodi principali per salvare e caricare i modelli in PyTorch:\n",
    "- `torch.save()` salva in modello in pickle format.\n",
    "- `torch.load()` carica\n",
    "- `torch.nn.Module_load_state_dict()` carica un uno state dict di un modello precedentemente salvato"
   ]
  },
  {
   "cell_type": "code",
   "execution_count": 121,
   "id": "66a033cb-69bb-4a6e-8f16-7771c5ed06c9",
   "metadata": {},
   "outputs": [
    {
     "data": {
      "text/plain": [
       "OrderedDict([('weights', tensor([0.6990])), ('bias', tensor([0.3093]))])"
      ]
     },
     "execution_count": 121,
     "metadata": {},
     "output_type": "execute_result"
    }
   ],
   "source": [
    "model_0.state_dict()"
   ]
  },
  {
   "cell_type": "code",
   "execution_count": 122,
   "id": "8d63a361-0a67-4256-9793-c1624724122a",
   "metadata": {},
   "outputs": [
    {
     "name": "stdout",
     "output_type": "stream",
     "text": [
      "Saving model to : models/01_PyTorch_Workflow_model_0.pth\n"
     ]
    }
   ],
   "source": [
    "# saving our PyTorch model\n",
    "\n",
    "from pathlib import Path\n",
    "\n",
    "# 1 create model dir\n",
    "MODEL_PATH = Path(\"models\")\n",
    "\n",
    "MODEL_PATH.mkdir(parents=True, exist_ok=True)\n",
    "\n",
    "# 2. Create model save path\n",
    "MODEL_NAME = \"01_PyTorch_Workflow_model_0.pth\"\n",
    "\n",
    "MODEL_SAVE_PATH = MODEL_PATH / MODEL_NAME\n",
    "\n",
    "\n",
    "# 3 save model state dict\n",
    "print(f\"Saving model to : {MODEL_SAVE_PATH}\")\n",
    "torch.save(obj=model_0.state_dict(),\n",
    "           f=MODEL_SAVE_PATH)"
   ]
  },
  {
   "cell_type": "markdown",
   "id": "523115ea-a89c-4daa-a776-fdc25d1bd560",
   "metadata": {},
   "source": [
    "# Loading a PyTorch Model\n",
    "Visto che abbiamo salvato lo `state_dict` invece dell'intero modello, creiamo una nuova istanza della nostra classe e carichiamo in essa lo state dict"
   ]
  },
  {
   "cell_type": "code",
   "execution_count": 123,
   "id": "76a167bd-8d0c-443e-871e-0e8b30d1459b",
   "metadata": {},
   "outputs": [
    {
     "data": {
      "text/plain": [
       "<All keys matched successfully>"
      ]
     },
     "execution_count": 123,
     "metadata": {},
     "output_type": "execute_result"
    }
   ],
   "source": [
    "# To load in a saved state_dict dobbiamo istanziare una nuova classe model\n",
    "loaded_model_0 = LinearRegressionModel()\n",
    "\n",
    "# load the save state_dict of model_0 (per aggiornare i parametri)\n",
    "loaded_model_0.load_state_dict(torch.load(f=MODEL_SAVE_PATH))"
   ]
  },
  {
   "cell_type": "code",
   "execution_count": 124,
   "id": "4c603e6a-373c-476f-9212-07bfe93c1956",
   "metadata": {},
   "outputs": [
    {
     "data": {
      "text/plain": [
       "OrderedDict([('weights', tensor([0.6990])), ('bias', tensor([0.3093]))])"
      ]
     },
     "execution_count": 124,
     "metadata": {},
     "output_type": "execute_result"
    }
   ],
   "source": [
    "loaded_model_0.state_dict()"
   ]
  },
  {
   "cell_type": "code",
   "execution_count": 125,
   "id": "07277fb6-f39f-48c5-8db9-7f495b4e257c",
   "metadata": {},
   "outputs": [
    {
     "data": {
      "text/plain": [
       "tensor([[0.8685],\n",
       "        [0.8825],\n",
       "        [0.8965],\n",
       "        [0.9105],\n",
       "        [0.9245],\n",
       "        [0.9384],\n",
       "        [0.9524],\n",
       "        [0.9664],\n",
       "        [0.9804],\n",
       "        [0.9944]])"
      ]
     },
     "execution_count": 125,
     "metadata": {},
     "output_type": "execute_result"
    }
   ],
   "source": [
    "# Make some prediction with loaded model\n",
    "loaded_model_0.eval()\n",
    "with torch.inference_mode():\n",
    "    loaded_model_preds = loaded_model_0(X_test)\n",
    "\n",
    "loaded_model_preds"
   ]
  },
  {
   "cell_type": "code",
   "execution_count": 128,
   "id": "cfb19ba8-95b6-4430-bbd4-2d420e9a0c14",
   "metadata": {},
   "outputs": [
    {
     "data": {
      "text/plain": [
       "tensor([[0.8685],\n",
       "        [0.8825],\n",
       "        [0.8965],\n",
       "        [0.9105],\n",
       "        [0.9245],\n",
       "        [0.9384],\n",
       "        [0.9524],\n",
       "        [0.9664],\n",
       "        [0.9804],\n",
       "        [0.9944]])"
      ]
     },
     "execution_count": 128,
     "metadata": {},
     "output_type": "execute_result"
    }
   ],
   "source": [
    "# Make some models preds\n",
    "\n",
    "model_0.eval()\n",
    "with torch.inference_mode():\n",
    "    y_preds = model_0(X_test)\n",
    "y_preds"
   ]
  },
  {
   "cell_type": "code",
   "execution_count": 129,
   "id": "11cbc3db-a0ba-4e79-a1ab-30e3c5cd1389",
   "metadata": {},
   "outputs": [
    {
     "data": {
      "text/plain": [
       "tensor([[True],\n",
       "        [True],\n",
       "        [True],\n",
       "        [True],\n",
       "        [True],\n",
       "        [True],\n",
       "        [True],\n",
       "        [True],\n",
       "        [True],\n",
       "        [True]])"
      ]
     },
     "execution_count": 129,
     "metadata": {},
     "output_type": "execute_result"
    }
   ],
   "source": [
    "# compare loaded model preds with original models preds\n",
    "y_preds == loaded_model_preds"
   ]
  },
  {
   "cell_type": "markdown",
   "id": "6ba8505b-af09-46a9-94d0-56ccbb88a111",
   "metadata": {},
   "source": [
    "### Saving state_dict vs saving model\n",
    "\n",
    "Differenze principali:\n",
    "\n",
    "1. Cosa viene salvato:\n",
    "\n",
    "- state_dict: Salva solo i parametri addestrati (pesi e bias)\n",
    "- Modello intero: Salva l'intera definizione della classe e i parametri\n",
    "\n",
    "\n",
    "2. Dimensione file:\n",
    "\n",
    "- state_dict: File più piccoli\n",
    "- Modello intero: File generalmente più grandi\n",
    "\n",
    "\n",
    "3. Flessibilità:\n",
    "\n",
    "- state_dict: Più flessibile, permette di caricare i pesi in modelli con architetture leggermente diverse\n",
    "- Modello intero: Meno flessibile, richiede che il codice della classe sia identico\n",
    "\n",
    "\n",
    "4. Dipendenze:\n",
    "\n",
    "- state_dict: Non dipende dalla definizione esatta del codice della classe\n",
    "- Modello intero: Dipende dalla definizione del codice (può causare problemi se cambi il codice)\n",
    "\n",
    "\n",
    "5. Portabilità:\n",
    "\n",
    "- state_dict: Più portabile tra versioni diverse di PyTorch\n",
    "- Modello intero: Potrebbe avere problemi di compatibilità tra versioni\n",
    "\n",
    "\n",
    "\n",
    "La pratica consigliata è generalmente salvare lo state_dict, in quanto offre maggiore flessibilità e portabilità, specialmente per progetti in evoluzione o da condividere con altri."
   ]
  },
  {
   "cell_type": "markdown",
   "id": "0aab70dc-509d-40e3-b4f9-de285b66d16e",
   "metadata": {},
   "source": [
    "## Putting it all togheter"
   ]
  },
  {
   "cell_type": "code",
   "execution_count": 286,
   "id": "cb9cac09-a507-458d-8f51-fe60643c1178",
   "metadata": {},
   "outputs": [
    {
     "data": {
      "text/plain": [
       "'2.7.0'"
      ]
     },
     "execution_count": 286,
     "metadata": {},
     "output_type": "execute_result"
    }
   ],
   "source": [
    "import torch\n",
    "from torch import nn\n",
    "import matplotlib.pyplot as plt\n",
    "\n",
    "# check version\n",
    "\n",
    "torch.__version__"
   ]
  },
  {
   "cell_type": "markdown",
   "id": "6fa2e1c1-51bc-4fe8-a51e-1af7e4917a74",
   "metadata": {},
   "source": [
    "Create **device-agnostic code**.\n",
    "Se non c'è un GPU useremo la CPU"
   ]
  },
  {
   "cell_type": "code",
   "execution_count": 287,
   "id": "a981194d-cbf4-4cfa-a3fc-0850c5de934e",
   "metadata": {},
   "outputs": [
    {
     "name": "stdout",
     "output_type": "stream",
     "text": [
      "Using device: mps\n"
     ]
    }
   ],
   "source": [
    "def get_device():\n",
    "    if torch.backends.mps.is_available():\n",
    "        return torch.device(\"mps\")\n",
    "    elif torch.cuda.is_available():\n",
    "        return torch.device(\"cuda\")\n",
    "    else:\n",
    "        return torch.device(\"cpu\")\n",
    "\n",
    "# Poi usa\n",
    "device = get_device()\n",
    "\n",
    "print(f\"Using device: {device}\")"
   ]
  },
  {
   "cell_type": "markdown",
   "id": "4946b09d-0efb-453f-9356-1fc6b55bc132",
   "metadata": {},
   "source": [
    "### Data "
   ]
  },
  {
   "cell_type": "code",
   "execution_count": 288,
   "id": "9227c498-d068-458c-b8e8-a2e9784dc230",
   "metadata": {},
   "outputs": [
    {
     "data": {
      "text/plain": [
       "(tensor([[0.0000],\n",
       "         [0.0200],\n",
       "         [0.0400],\n",
       "         [0.0600],\n",
       "         [0.0800],\n",
       "         [0.1000],\n",
       "         [0.1200],\n",
       "         [0.1400],\n",
       "         [0.1600],\n",
       "         [0.1800]]),\n",
       " tensor([[0.3000],\n",
       "         [0.3140],\n",
       "         [0.3280],\n",
       "         [0.3420],\n",
       "         [0.3560],\n",
       "         [0.3700],\n",
       "         [0.3840],\n",
       "         [0.3980],\n",
       "         [0.4120],\n",
       "         [0.4260]]))"
      ]
     },
     "execution_count": 288,
     "metadata": {},
     "output_type": "execute_result"
    }
   ],
   "source": [
    "# Create some data using linear regression formula y = weight * X + bias ( y = mx + c)\n",
    "\n",
    "weight = 0.7\n",
    "bias = 0.3\n",
    "\n",
    "# Create range values\n",
    "\n",
    "start = 0\n",
    "\n",
    "end = 1\n",
    "\n",
    "step = 0.02\n",
    "\n",
    "# Create X and y (Features and labels)\n",
    "X = torch.arange(start,end, step).unsqueeze(dim=1)\n",
    "y = weight * X + bias\n",
    "\n",
    "X[:10], y[:10]"
   ]
  },
  {
   "cell_type": "code",
   "execution_count": 289,
   "id": "2a7360dc-704a-425c-b685-9e24d42bbbd0",
   "metadata": {},
   "outputs": [
    {
     "data": {
      "text/plain": [
       "(40, 40, 10, 10)"
      ]
     },
     "execution_count": 289,
     "metadata": {},
     "output_type": "execute_result"
    }
   ],
   "source": [
    "# split data\n",
    "train_split = int(0.8 * len(X))\n",
    "X_train,y_train = X[:train_split], y[:train_split]\n",
    "\n",
    "X_test, y_test = X[train_split:], y[train_split:]\n",
    "\n",
    "len(X_train), len(y_train), len(X_test), len(y_test)"
   ]
  },
  {
   "cell_type": "code",
   "execution_count": 290,
   "id": "70922a1e-771f-4d08-9e87-1f77b667f16f",
   "metadata": {},
   "outputs": [
    {
     "data": {
      "image/png": "[encoded data removed]",
      "text/plain": [
       "<Figure size 1000x700 with 1 Axes>"
      ]
     },
     "metadata": {},
     "output_type": "display_data"
    }
   ],
   "source": [
    "# Plot the data \n",
    "plot_predictions(X_train, y_train, X_test, y_test)"
   ]
  },
  {
   "cell_type": "markdown",
   "id": "89719d52-eb41-4733-af1e-94aa1293d514",
   "metadata": {},
   "source": [
    "### building a model\n",
    "\n",
    "Non inizializziam i parametri in maniera manuale come fattto prima ma usiamo delle funzioni prebuilt di PyTorch"
   ]
  },
  {
   "cell_type": "code",
   "execution_count": 291,
   "id": "4d1c4ce7-5d28-41f3-a00e-3a07f7d0bd17",
   "metadata": {},
   "outputs": [
    {
     "data": {
      "text/plain": [
       "(LinearModelRegressionV2(\n",
       "   (linear_layer): Linear(in_features=1, out_features=1, bias=True)\n",
       " ),\n",
       " OrderedDict([('linear_layer.weight', tensor([[0.7645]])),\n",
       "              ('linear_layer.bias', tensor([0.8300]))]))"
      ]
     },
     "execution_count": 291,
     "metadata": {},
     "output_type": "execute_result"
    }
   ],
   "source": [
    "# create a linear model by subclassing `nn.Module`\n",
    "class LinearModelRegressionV2(nn.Module):\n",
    "    def __init__(self):\n",
    "        super().__init__()\n",
    "        # Use nn.Linear() for creating model parameters\n",
    "        self.linear_layer = nn.Linear(in_features=1,\n",
    "                                     out_features=1)\n",
    "    def forward(self,x: torch.Tensor)->torch.Tensor:\n",
    "        return self.linear_layer(x)\n",
    "\n",
    "# manual seed\n",
    "torch.manual_seed(42)\n",
    "model_1 = LinearModelRegressionV2()\n",
    "\n",
    "model_1, model_1.state_dict()"
   ]
  },
  {
   "cell_type": "markdown",
   "id": "ecc23669-aa49-43cb-8134-fa41984ac7a8",
   "metadata": {},
   "source": [
    "![](image/01-pytorch-linear-regression-model-with-nn-Parameter-and-nn-Linear-compared.png)"
   ]
  },
  {
   "cell_type": "code",
   "execution_count": 292,
   "id": "2568f3bd-63bb-4c75-a5f2-773ffc736d7f",
   "metadata": {},
   "outputs": [
    {
     "data": {
      "text/plain": [
       "device(type='cpu')"
      ]
     },
     "execution_count": 292,
     "metadata": {},
     "output_type": "execute_result"
    }
   ],
   "source": [
    "# CHeck model current device\n",
    "\n",
    "next(model_1.parameters()).device"
   ]
  },
  {
   "cell_type": "code",
   "execution_count": 293,
   "id": "4c15750d-ac1a-4cae-a813-0a61fa57fb65",
   "metadata": {},
   "outputs": [
    {
     "data": {
      "text/plain": [
       "device(type='mps', index=0)"
      ]
     },
     "execution_count": 293,
     "metadata": {},
     "output_type": "execute_result"
    }
   ],
   "source": [
    "# set the model to use target device\n",
    "model_1.to(device)\n",
    "\n",
    "next(model_1.parameters()).device"
   ]
  },
  {
   "cell_type": "markdown",
   "id": "45d2fbc1-452e-4582-9085-5303e9f70d8b",
   "metadata": {},
   "source": [
    "### training\n",
    "\n",
    "- Loss function\n",
    "- optimizer\n",
    "- training loop\n",
    "- testing loop"
   ]
  },
  {
   "cell_type": "code",
   "execution_count": 294,
   "id": "8b7e5a28-b60c-4849-9241-4ed27842132b",
   "metadata": {},
   "outputs": [],
   "source": [
    "# setup loss function\n",
    "\n",
    "loss_fn = nn.L1Loss()\n",
    "\n",
    "# optimizer\n",
    "optimizer = torch.optim.SGD(params=model_1.parameters(),\n",
    "                            lr=0.01)\n",
    "\n",
    "\n"
   ]
  },
  {
   "cell_type": "code",
   "execution_count": 295,
   "id": "19342356-585c-4e7c-815c-3dd99fc5bccc",
   "metadata": {},
   "outputs": [
    {
     "name": "stdout",
     "output_type": "stream",
     "text": [
      "Epoch: 0 | Loss: 0.5551779270172119 | Test Loss: 0.5739762783050537\n",
      "Epoch: 10 | Loss: 0.4399681091308594 | Test Loss: 0.4392664134502411\n",
      "Epoch: 20 | Loss: 0.3247582018375397 | Test Loss: 0.30455657839775085\n",
      "Epoch: 30 | Loss: 0.20954833924770355 | Test Loss: 0.16984672844409943\n",
      "Epoch: 40 | Loss: 0.09433844685554504 | Test Loss: 0.03513688966631889\n",
      "Epoch: 50 | Loss: 0.023886388167738914 | Test Loss: 0.04784907028079033\n",
      "Epoch: 60 | Loss: 0.019956793636083603 | Test Loss: 0.04580312967300415\n",
      "Epoch: 70 | Loss: 0.016517985612154007 | Test Loss: 0.037530578672885895\n",
      "Epoch: 80 | Loss: 0.013089167885482311 | Test Loss: 0.02994491532444954\n",
      "Epoch: 90 | Loss: 0.009653175249695778 | Test Loss: 0.02167237363755703\n",
      "Epoch: 100 | Loss: 0.006215682718902826 | Test Loss: 0.014086711220443249\n",
      "Epoch: 110 | Loss: 0.002787243574857712 | Test Loss: 0.005814170930534601\n",
      "Epoch: 120 | Loss: 0.0012645088136196136 | Test Loss: 0.013801807537674904\n",
      "Epoch: 130 | Loss: 0.0012645088136196136 | Test Loss: 0.013801807537674904\n",
      "Epoch: 140 | Loss: 0.0012645088136196136 | Test Loss: 0.013801807537674904\n",
      "Epoch: 150 | Loss: 0.0012645088136196136 | Test Loss: 0.013801807537674904\n",
      "Epoch: 160 | Loss: 0.0012645088136196136 | Test Loss: 0.013801807537674904\n",
      "Epoch: 170 | Loss: 0.0012645088136196136 | Test Loss: 0.013801807537674904\n",
      "Epoch: 180 | Loss: 0.0012645088136196136 | Test Loss: 0.013801807537674904\n",
      "Epoch: 190 | Loss: 0.0012645088136196136 | Test Loss: 0.013801807537674904\n"
     ]
    }
   ],
   "source": [
    "# training loop\n",
    "\n",
    "torch.manual_seed(42)\n",
    "\n",
    "epochs = 200\n",
    "\n",
    "# Put data on target device (agnosti code)\n",
    "X_train = X_train.to(device)\n",
    "y_train = y_train.to(device)\n",
    "X_test = X_test.to(device)\n",
    "y_test = y_test.to(device)\n",
    "\n",
    "for epoch in range(epochs):\n",
    "    model_1.train()\n",
    "\n",
    "    # forward\n",
    "    y_pred = model_1(X_train)\n",
    "\n",
    "    # calculate loss\n",
    "\n",
    "    loss = loss_fn(y_pred, y_train)\n",
    "\n",
    "    # optimizer zero grad\n",
    "    optimizer.zero_grad()\n",
    "\n",
    "    # backpropagation\n",
    "    loss.backward()\n",
    "\n",
    "    # optimizer step\n",
    "    optimizer.step()\n",
    "\n",
    "\n",
    "    ### testing\n",
    "    model_1.eval()\n",
    "    with torch.inference_mode():\n",
    "        test_pred =model_1(X_test)\n",
    "\n",
    "        test_loss = loss_fn(test_pred, y_test)\n",
    "\n",
    "    # print what's happening\n",
    "    if epoch % 10 == 0:\n",
    "        print(f\"Epoch: {epoch} | Loss: {loss} | Test Loss: {test_loss}\")\n",
    "    "
   ]
  },
  {
   "cell_type": "code",
   "execution_count": 296,
   "id": "16e9a020-121c-4a9d-b7bc-a60b1a789d05",
   "metadata": {},
   "outputs": [
    {
     "data": {
      "text/plain": [
       "OrderedDict([('linear_layer.weight', tensor([[0.6968]], device='mps:0')),\n",
       "             ('linear_layer.bias', tensor([0.3025], device='mps:0'))])"
      ]
     },
     "execution_count": 296,
     "metadata": {},
     "output_type": "execute_result"
    }
   ],
   "source": [
    "model_1.state_dict()"
   ]
  },
  {
   "cell_type": "code",
   "execution_count": 297,
   "id": "bb915526-fdd6-4b80-b852-003da53c4b02",
   "metadata": {},
   "outputs": [
    {
     "data": {
      "text/plain": [
       "(0.7, 0.3)"
      ]
     },
     "execution_count": 297,
     "metadata": {},
     "output_type": "execute_result"
    }
   ],
   "source": [
    "weight,bias"
   ]
  },
  {
   "cell_type": "markdown",
   "id": "343a1f38-b0c7-4ed2-9125-fa89884eb204",
   "metadata": {},
   "source": [
    "### Making and evaluating predictions\n"
   ]
  },
  {
   "cell_type": "code",
   "execution_count": 298,
   "id": "15c05670-c5e1-4550-a371-2e673dcb8a30",
   "metadata": {},
   "outputs": [
    {
     "data": {
      "text/plain": [
       "tensor([[0.8600],\n",
       "        [0.8739],\n",
       "        [0.8878],\n",
       "        [0.9018],\n",
       "        [0.9157],\n",
       "        [0.9296],\n",
       "        [0.9436],\n",
       "        [0.9575],\n",
       "        [0.9714],\n",
       "        [0.9854]], device='mps:0')"
      ]
     },
     "execution_count": 298,
     "metadata": {},
     "output_type": "execute_result"
    }
   ],
   "source": [
    "# turn model into evaluation mode\n",
    "model_1.eval()\n",
    "\n",
    "# Make prediction on test data\n",
    "\n",
    "with torch.inference_mode():\n",
    "    y_preds= model_1(X_test)\n",
    "y_preds"
   ]
  },
  {
   "cell_type": "code",
   "execution_count": 299,
   "id": "90eb2265-1574-4179-bcb5-e6eec2a79f77",
   "metadata": {},
   "outputs": [
    {
     "data": {
      "image/png": "[encoded data removed]",
      "text/plain": [
       "<Figure size 1000x700 with 1 Axes>"
      ]
     },
     "metadata": {},
     "output_type": "display_data"
    }
   ],
   "source": [
    "plot_predictions(predictions=y_preds.cpu())"
   ]
  },
  {
   "cell_type": "markdown",
   "id": "b0280a77-7070-49ba-bff2-b726cc733727",
   "metadata": {},
   "source": [
    "### Saving and loading trained model"
   ]
  },
  {
   "cell_type": "code",
   "execution_count": 155,
   "id": "bcf1dfc0-3447-4fc5-98e7-eaaf27b19018",
   "metadata": {},
   "outputs": [
    {
     "name": "stdout",
     "output_type": "stream",
     "text": [
      "Saving model to models/01_pytorch_workflow_model_1.pth\n"
     ]
    }
   ],
   "source": [
    "from pathlib import Path\n",
    "\n",
    "# create model directory\n",
    "\n",
    "MODEL_PATH = Path(\"models\")\n",
    "MODEL_PATH.mkdir(parents=True, exist_ok=True)\n",
    "\n",
    "# Create model save path\n",
    "MODEL_NAME = \"01_pytorch_workflow_model_1.pth\"\n",
    "MODEL_SAVE_PATH = MODEL_PATH / MODEL_NAME\n",
    "\n",
    "# MODEL_SAVE_PATH\n",
    "# PosixPath('models/01_pytorch_workflow_model_1.pth')\n",
    "\n",
    "# save the model state_dict\n",
    "print(f\"Saving model to {MODEL_SAVE_PATH}\")\n",
    "\n",
    "torch.save(obj=model_1.state_dict(),\n",
    "          f=MODEL_SAVE_PATH)"
   ]
  },
  {
   "cell_type": "code",
   "execution_count": 156,
   "id": "beabc2f1-a0e4-4a48-b166-902314a9f6bb",
   "metadata": {},
   "outputs": [
    {
     "data": {
      "text/plain": [
       "LinearModelRegressionV2(\n",
       "  (linear_layer): Linear(in_features=1, out_features=1, bias=True)\n",
       ")"
      ]
     },
     "execution_count": 156,
     "metadata": {},
     "output_type": "execute_result"
    }
   ],
   "source": [
    "# Load a PyTorch Model\n",
    "\n",
    "# Create new istance\n",
    "loaded_model_1 = LinearModelRegressionV2()\n",
    "\n",
    "# Load saved model_1 staate dict\n",
    "loaded_model_1.load_state_dict(torch.load(MODEL_SAVE_PATH))\n",
    "\n",
    "# Put loaded model to device\n",
    "loaded_model_1.to(device)\n",
    "\n",
    "\n",
    "                               "
   ]
  },
  {
   "cell_type": "code",
   "execution_count": 158,
   "id": "6bbcff0f-f10f-4666-9366-5c45f26415b1",
   "metadata": {},
   "outputs": [
    {
     "data": {
      "text/plain": [
       "device(type='mps', index=0)"
      ]
     },
     "execution_count": 158,
     "metadata": {},
     "output_type": "execute_result"
    }
   ],
   "source": [
    "next(loaded_model_1.parameters()).device"
   ]
  },
  {
   "cell_type": "code",
   "execution_count": 159,
   "id": "f6715fdc-1b03-49e4-a1c4-8ab5af4ce206",
   "metadata": {},
   "outputs": [
    {
     "data": {
      "text/plain": [
       "OrderedDict([('linear_layer.weight', tensor([[0.6968]], device='mps:0')),\n",
       "             ('linear_layer.bias', tensor([0.3025], device='mps:0'))])"
      ]
     },
     "execution_count": 159,
     "metadata": {},
     "output_type": "execute_result"
    }
   ],
   "source": [
    "loaded_model_1.state_dict()"
   ]
  },
  {
   "cell_type": "code",
   "execution_count": 160,
   "id": "b405dafb-6232-4fca-a645-e5aa38ef0f4a",
   "metadata": {},
   "outputs": [
    {
     "data": {
      "text/plain": [
       "tensor([[True],\n",
       "        [True],\n",
       "        [True],\n",
       "        [True],\n",
       "        [True],\n",
       "        [True],\n",
       "        [True],\n",
       "        [True],\n",
       "        [True],\n",
       "        [True]], device='mps:0')"
      ]
     },
     "execution_count": 160,
     "metadata": {},
     "output_type": "execute_result"
    }
   ],
   "source": [
    "# evaluate loaded model\n",
    "loaded_model_1.eval()\n",
    "\n",
    "with torch.inference_mode():\n",
    "    loaded_model_1_preds = loaded_model_1(X_test)\n",
    "y_preds == loaded_model_1_preds"
   ]
  },
  {
   "cell_type": "markdown",
   "id": "b8c62a3b-ad11-45ca-9a8b-e172e9779c60",
   "metadata": {},
   "source": [
    "## Exercise\n",
    "### Create a straight line dataset using the linear regression formula `weight * X + bias`"
   ]
  },
  {
   "cell_type": "code",
   "execution_count": 310,
   "id": "4dc793fb-5723-44ca-a597-fc98316761de",
   "metadata": {},
   "outputs": [],
   "source": [
    "import torch\n",
    "from torch import nn \n",
    "import matplotlib.pyplot as plt"
   ]
  },
  {
   "cell_type": "code",
   "execution_count": 311,
   "id": "1b744407-1546-41d7-af25-455db2260114",
   "metadata": {},
   "outputs": [
    {
     "data": {
      "text/plain": [
       "(tensor([[0.0000],\n",
       "         [0.0100],\n",
       "         [0.0200],\n",
       "         [0.0300],\n",
       "         [0.0400],\n",
       "         [0.0500],\n",
       "         [0.0600],\n",
       "         [0.0700],\n",
       "         [0.0800],\n",
       "         [0.0900]]),\n",
       " tensor([[0.9000],\n",
       "         [0.9030],\n",
       "         [0.9060],\n",
       "         [0.9090],\n",
       "         [0.9120],\n",
       "         [0.9150],\n",
       "         [0.9180],\n",
       "         [0.9210],\n",
       "         [0.9240],\n",
       "         [0.9270]]))"
      ]
     },
     "execution_count": 311,
     "metadata": {},
     "output_type": "execute_result"
    }
   ],
   "source": [
    "weight = 0.3\n",
    "bias = 0.9\n",
    "\n",
    "\n",
    "# Create data\n",
    "start = 0\n",
    "end = 1\n",
    "step = 0.01\n",
    "X = torch.arange(start, end, step).unsqueeze(dim=1)\n",
    "y = weight * X + bias\n",
    "\n",
    "X[:10], y[:10]"
   ]
  },
  {
   "cell_type": "code",
   "execution_count": 312,
   "id": "43408b6b-516e-417d-a0dc-1fce2d47d2a1",
   "metadata": {},
   "outputs": [
    {
     "data": {
      "text/plain": [
       "100"
      ]
     },
     "execution_count": 312,
     "metadata": {},
     "output_type": "execute_result"
    }
   ],
   "source": [
    "len(X)"
   ]
  },
  {
   "cell_type": "code",
   "execution_count": 313,
   "id": "cb9cf9b6-6cfc-4967-b9ba-a75ef32eff2b",
   "metadata": {},
   "outputs": [
    {
     "data": {
      "text/plain": [
       "(80, 80, 20, 20)"
      ]
     },
     "execution_count": 313,
     "metadata": {},
     "output_type": "execute_result"
    }
   ],
   "source": [
    "# Split data\n",
    "train_split = int(0.8 * len(X))\n",
    "\n",
    "X_train, y_train = X[:train_split],y[:train_split]\n",
    "X_test, y_test = X[train_split:], y[train_split:]\n",
    "\n",
    "len(X_train), len(y_train), len(X_test), len(y_test)"
   ]
  },
  {
   "cell_type": "code",
   "execution_count": 314,
   "id": "65fbe00e-e295-44e5-9d14-4e9934a9d951",
   "metadata": {},
   "outputs": [
    {
     "data": {
      "image/png": "[encoded data removed]",
      "text/plain": [
       "<Figure size 1000x700 with 1 Axes>"
      ]
     },
     "metadata": {},
     "output_type": "display_data"
    }
   ],
   "source": [
    "\n",
    "# Plot the training and testing data \n",
    "def plot_predictions(train_data = X_train,\n",
    "                 train_labels = y_train,\n",
    "                 test_data = X_test,\n",
    "                 test_labels = y_test,\n",
    "                 predictions = None):\n",
    "  plt.figure(figsize = (10,7))\n",
    "  plt.scatter(train_data,train_labels,c = 'b',s = 4,label = \"Training data\")\n",
    "  plt.scatter(test_data,test_labels,c = 'g',s = 4,label = \"Test data\")\n",
    "\n",
    "  if predictions is not None:\n",
    "    plt.scatter(test_data,predictions,c = 'r',s = 4,label = \"Predictions\")\n",
    "  plt.legend(prop = {\"size\" : 14})\n",
    "plot_predictions()"
   ]
  },
  {
   "cell_type": "markdown",
   "id": "0e45c5ff-6f0b-4ba5-bf0b-8ed27f8312b2",
   "metadata": {},
   "source": [
    "### Build a PyTorch Model by subclassing `nn.Module`"
   ]
  },
  {
   "cell_type": "code",
   "execution_count": 315,
   "id": "b60d1e5e-448d-4514-8bde-93987c92dfeb",
   "metadata": {},
   "outputs": [
    {
     "data": {
      "text/plain": [
       "(LinearRegressionModelV3(\n",
       "   (linear_layer): Linear(in_features=1, out_features=1, bias=True)\n",
       " ),\n",
       " OrderedDict([('linear_layer.weight', tensor([[0.7645]])),\n",
       "              ('linear_layer.bias', tensor([0.8300]))]))"
      ]
     },
     "execution_count": 315,
     "metadata": {},
     "output_type": "execute_result"
    }
   ],
   "source": [
    "class LinearRegressionModelV3(nn.Module):\n",
    "    def __init__(self):\n",
    "        super().__init__()\n",
    "        self.linear_layer = nn.Linear(in_features=1,\n",
    "                                      out_features=1)\n",
    "    def forward(self, x: torch.Tensor) -> torch.Tensor:\n",
    "        return self.linear_layer(x)\n",
    "\n",
    "# manual seed\n",
    "torch.manual_seed(42)\n",
    "\n",
    "# istanzio il modello\n",
    "model_2 = LinearRegressionModelV3()\n",
    "\n",
    "model_2, model_2.state_dict()"
   ]
  },
  {
   "cell_type": "code",
   "execution_count": 316,
   "id": "399552ac-b167-4906-b7c2-c62f1c0fc6fb",
   "metadata": {},
   "outputs": [
    {
     "data": {
      "text/plain": [
       "device(type='cpu')"
      ]
     },
     "execution_count": 316,
     "metadata": {},
     "output_type": "execute_result"
    }
   ],
   "source": [
    "next(model_2.parameters()).device"
   ]
  },
  {
   "cell_type": "code",
   "execution_count": 317,
   "id": "e70e6310-232e-4492-8fa7-9eff4d061f51",
   "metadata": {},
   "outputs": [
    {
     "data": {
      "text/plain": [
       "[Parameter containing:\n",
       " tensor([[0.7645]], device='mps:0', requires_grad=True),\n",
       " Parameter containing:\n",
       " tensor([0.8300], device='mps:0', requires_grad=True)]"
      ]
     },
     "execution_count": 317,
     "metadata": {},
     "output_type": "execute_result"
    }
   ],
   "source": [
    "# Instantiate the model and put it to the target device\n",
    "model_2.to(device)\n",
    "list(model_2.parameters())"
   ]
  },
  {
   "cell_type": "markdown",
   "id": "e5d3bd55-0afb-42c4-9e7c-d8393bd6abec",
   "metadata": {},
   "source": [
    "### Create a loss function and optimize"
   ]
  },
  {
   "cell_type": "code",
   "execution_count": 318,
   "id": "95703085-c7b8-4fe7-8871-04f13131f137",
   "metadata": {},
   "outputs": [],
   "source": [
    "loss_fn = nn.L1Loss()\n",
    "\n",
    "optimizer = torch.optim.SGD(params=model_2.parameters(),\n",
    "                           lr=0.01)"
   ]
  },
  {
   "cell_type": "code",
   "execution_count": 319,
   "id": "0364b872-bc25-4b99-b87e-7bfab61db426",
   "metadata": {},
   "outputs": [
    {
     "name": "stdout",
     "output_type": "stream",
     "text": [
      "In Epoch 0: Loss 0.1275613158941269 | Test Loss 0.33650320768356323\n",
      "In Epoch 20: Loss 0.08187222480773926 | Test Loss 0.21840262413024902\n",
      "In Epoch 40: Loss 0.07207288593053818 | Test Loss 0.17458660900592804\n",
      "In Epoch 60: Loss 0.06507988274097443 | Test Loss 0.15310418605804443\n",
      "In Epoch 80: Loss 0.05822876840829849 | Test Loss 0.1367770880460739\n",
      "In Epoch 100: Loss 0.05137667804956436 | Test Loss 0.12079393863677979\n",
      "In Epoch 120: Loss 0.044525567442178726 | Test Loss 0.10446683317422867\n",
      "In Epoch 140: Loss 0.037674423307180405 | Test Loss 0.08813949674367905\n",
      "In Epoch 160: Loss 0.03082224540412426 | Test Loss 0.0721558928489685\n",
      "In Epoch 180: Loss 0.02397104725241661 | Test Loss 0.05582833290100098\n",
      "In Epoch 200: Loss 0.017119845375418663 | Test Loss 0.03950076177716255\n",
      "In Epoch 220: Loss 0.010267666541039944 | Test Loss 0.02351721003651619\n",
      "In Epoch 240: Loss 0.0034168988931924105 | Test Loss 0.007191836833953857\n",
      "In Epoch 260: Loss 0.007878490723669529 | Test Loss 0.007064247038215399\n",
      "In Epoch 280: Loss 0.007878490723669529 | Test Loss 0.007064247038215399\n",
      "In Epoch 299: Loss 0.0036817484069615602 | Test Loss 0.006471026223152876\n"
     ]
    }
   ],
   "source": [
    "### Training loop\n",
    "epochs = 300\n",
    "\n",
    "X_train = X_train.to(device)\n",
    "X_test = X_test.to(device)\n",
    "y_train = y_train.to(device)\n",
    "y_test = y_test.to(device)\n",
    "\n",
    "for epoch in range(epochs):\n",
    "    # model to train mode\n",
    "    model_2.train()\n",
    "\n",
    "    # 1 forward pass\n",
    "    y_pred = model_2(X_train)\n",
    "\n",
    "    # 2 Calcolo loss\n",
    "    loss = loss_fn(y_pred, y_train)\n",
    "\n",
    "    # 3 zero gradients\n",
    "    optimizer.zero_grad()\n",
    "\n",
    "    # 4 back propagation on the loss\n",
    "    loss.backward()\n",
    "\n",
    "    # 5 Step the optimizer\n",
    "    optimizer.step()\n",
    "    \n",
    "    if epoch % 20 == 0 or epoch == epochs -1:\n",
    "        # Testing\n",
    "        # model to test mode\n",
    "        model_2.eval()\n",
    "\n",
    "        # forward pass\n",
    "        with torch.inference_mode():\n",
    "            y_preds = model_2(X_test)\n",
    "\n",
    "            # calcolo loss test \n",
    "            test_loss = loss_fn(y_preds, y_test)\n",
    "            print(f\"In Epoch {epoch}: Loss {loss} | Test Loss {test_loss}\" )\n",
    "\n",
    "    "
   ]
  },
  {
   "cell_type": "code",
   "execution_count": 320,
   "id": "5cf0d956-943c-4d17-87bf-986da2b464c6",
   "metadata": {},
   "outputs": [
    {
     "data": {
      "text/plain": [
       "tensor([[1.1333],\n",
       "        [1.1363],\n",
       "        [1.1393],\n",
       "        [1.1423],\n",
       "        [1.1454],\n",
       "        [1.1484],\n",
       "        [1.1514],\n",
       "        [1.1545],\n",
       "        [1.1575],\n",
       "        [1.1605],\n",
       "        [1.1635],\n",
       "        [1.1666],\n",
       "        [1.1696],\n",
       "        [1.1726],\n",
       "        [1.1757],\n",
       "        [1.1787],\n",
       "        [1.1817],\n",
       "        [1.1847],\n",
       "        [1.1878],\n",
       "        [1.1908]], device='mps:0')"
      ]
     },
     "execution_count": 320,
     "metadata": {},
     "output_type": "execute_result"
    }
   ],
   "source": [
    "model_2.eval()\n",
    "with torch.inference_mode():\n",
    "    y_preds = model_2(X_test)\n",
    "y_preds"
   ]
  },
  {
   "cell_type": "code",
   "execution_count": 321,
   "id": "a4707d4e-c04f-4f98-93db-4c2c07876267",
   "metadata": {},
   "outputs": [
    {
     "data": {
      "text/plain": [
       "20"
      ]
     },
     "execution_count": 321,
     "metadata": {},
     "output_type": "execute_result"
    }
   ],
   "source": [
    "len(y_preds)"
   ]
  },
  {
   "cell_type": "code",
   "execution_count": 322,
   "id": "73dd3302-f630-45f9-818d-0b55d8295171",
   "metadata": {},
   "outputs": [
    {
     "data": {
      "text/plain": [
       "tensor([[1.1333],\n",
       "        [1.1363],\n",
       "        [1.1393],\n",
       "        [1.1423],\n",
       "        [1.1454],\n",
       "        [1.1484],\n",
       "        [1.1514],\n",
       "        [1.1545],\n",
       "        [1.1575],\n",
       "        [1.1605],\n",
       "        [1.1635],\n",
       "        [1.1666],\n",
       "        [1.1696],\n",
       "        [1.1726],\n",
       "        [1.1757],\n",
       "        [1.1787],\n",
       "        [1.1817],\n",
       "        [1.1847],\n",
       "        [1.1878],\n",
       "        [1.1908]])"
      ]
     },
     "execution_count": 322,
     "metadata": {},
     "output_type": "execute_result"
    }
   ],
   "source": [
    "y_preds.cpu()"
   ]
  },
  {
   "cell_type": "code",
   "execution_count": 324,
   "id": "cf9d57bb-eebf-4ac7-bdb2-56de86a8e608",
   "metadata": {},
   "outputs": [
    {
     "data": {
      "image/png": "[encoded data removed]",
      "text/plain": [
       "<Figure size 1000x700 with 1 Axes>"
      ]
     },
     "metadata": {},
     "output_type": "display_data"
    }
   ],
   "source": [
    "plot_predictions(predictions=y_preds.cpu())"
   ]
  },
  {
   "cell_type": "markdown",
   "id": "0d368a80-eb28-40ce-870f-f8b794577673",
   "metadata": {},
   "source": [
    "### Save the trained model's `state_dict()`"
   ]
  },
  {
   "cell_type": "code",
   "execution_count": 326,
   "id": "bfba01a2-339d-43b4-85f5-78b181571c97",
   "metadata": {},
   "outputs": [
    {
     "name": "stdout",
     "output_type": "stream",
     "text": [
      "Saving model to models/01_pytorch_model_homework\n"
     ]
    }
   ],
   "source": [
    "from pathlib import Path\n",
    "\n",
    "# 1. Create models directory \n",
    "MODEL_PATH = Path(\"models\")\n",
    "MODEL_PATH.mkdir(parents = True,exist_ok = True)\n",
    "# 2. Create model save path \n",
    "MODEL_NAME = \"01_pytorch_model_homework\"\n",
    "MODEL_SAVE_PATH = MODEL_PATH / MODEL_NAME \n",
    "# 3. Save the model state dict\n",
    "print(f\"Saving model to {MODEL_SAVE_PATH}\")\n",
    "torch.save(obj = model_2.state_dict(),f = MODEL_SAVE_PATH)\n",
    "     "
   ]
  },
  {
   "cell_type": "code",
   "execution_count": 327,
   "id": "536fd30c-66f3-4047-9d51-a13146666c64",
   "metadata": {},
   "outputs": [
    {
     "data": {
      "text/plain": [
       "LinearRegressionModelV3(\n",
       "  (linear_layer): Linear(in_features=1, out_features=1, bias=True)\n",
       ")"
      ]
     },
     "execution_count": 327,
     "metadata": {},
     "output_type": "execute_result"
    }
   ],
   "source": [
    "\n",
    "# Create new instance of model and load saved state dict (make sure to put it on the target device)\n",
    "loaded_model = LinearRegressionModelV3()\n",
    "loaded_model.load_state_dict(torch.load(f = MODEL_SAVE_PATH))\n",
    "loaded_model.to(device)"
   ]
  },
  {
   "cell_type": "code",
   "execution_count": 328,
   "id": "46737274-0e1e-4b13-8d04-0bfc93445627",
   "metadata": {},
   "outputs": [
    {
     "data": {
      "text/plain": [
       "tensor([[True],\n",
       "        [True],\n",
       "        [True],\n",
       "        [True],\n",
       "        [True],\n",
       "        [True],\n",
       "        [True],\n",
       "        [True],\n",
       "        [True],\n",
       "        [True],\n",
       "        [True],\n",
       "        [True],\n",
       "        [True],\n",
       "        [True],\n",
       "        [True],\n",
       "        [True],\n",
       "        [True],\n",
       "        [True],\n",
       "        [True],\n",
       "        [True]], device='mps:0')"
      ]
     },
     "execution_count": 328,
     "metadata": {},
     "output_type": "execute_result"
    }
   ],
   "source": [
    "\n",
    "\n",
    "# Make predictions with loaded model and compare them to the previous\n",
    "y_preds_new = loaded_model(X_test)\n",
    "y_preds == y_preds_new"
   ]
  },
  {
   "cell_type": "code",
   "execution_count": 329,
   "id": "d8332db6-95ef-48dd-a375-92a6ccad21b0",
   "metadata": {},
   "outputs": [
    {
     "data": {
      "text/plain": [
       "OrderedDict([('linear_layer.weight', tensor([[0.3028]], device='mps:0')),\n",
       "             ('linear_layer.bias', tensor([0.8910], device='mps:0'))])"
      ]
     },
     "execution_count": 329,
     "metadata": {},
     "output_type": "execute_result"
    }
   ],
   "source": [
    "loaded_model.state_dict()\n"
   ]
  },
  {
   "cell_type": "markdown",
   "id": "b93acd6b-24ba-4740-add5-59d959dec044",
   "metadata": {},
   "source": [
    "### Extra-curriculum\n",
    "- Listen to [The Unofficial PyTorch Optimization Loop Song](https://youtu.be/Nutpusq_AFw) (to help remember the steps in a PyTorch training/testing loop).\n",
    "- Read [What is `torch.nn`, really?](https://pytorch.org/tutorials/beginner/nn_tutorial.html) by Jeremy Howard for a deeper understanding of how one of the most important modules in PyTorch works.\n",
    "- Spend 1-2 hours reading/watching the following for an overview of the internals of gradient descent and backpropagation, the two main algorithms that have been working in the background to help our model learn.\n",
    "- [Wikipedia page for gradient descent](https://en.wikipedia.org/wiki/Gradient_descent)\n",
    "- [Gradient Descent Algorithm — a deep dive](https://towardsdatascience.com/gradient-descent-algorithm-a-deep-dive-cf04e8115f21) by Robert Kwiatkowski\n",
    "- [Gradient descent, how neural networks learn video](https://youtu.be/IHZwWFHWa-w) by 3Blue1Brown\n",
    "- [What is backpropagation really doing? video](https://youtu.be/Ilg3gGewQ5U) by 3Blue1Brown\n",
    "- [Backpropagation Wikipedia Page](https://en.wikipedia.org/wiki/Backpropagation)"
   ]
  },
  {
   "cell_type": "code",
   "execution_count": null,
   "id": "a9c2eeb4-eaa8-493a-91a6-2b9ec0d84786",
   "metadata": {},
   "outputs": [],
   "source": []
  }
 ],
 "metadata": {
  "kernelspec": {
   "display_name": "Python 3 (ipykernel)",
   "language": "python",
   "name": "python3"
  },
  "language_info": {
   "codemirror_mode": {
    "name": "ipython",
    "version": 3
   },
   "file_extension": ".py",
   "mimetype": "text/x-python",
   "name": "python",
   "nbconvert_exporter": "python",
   "pygments_lexer": "ipython3",
   "version": "3.10.17"
  }
 },
 "nbformat": 4,
 "nbformat_minor": 5
}
