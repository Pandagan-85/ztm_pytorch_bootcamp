{
 "cells": [
  {
   "cell_type": "markdown",
   "id": "8757f748-f5b5-48d1-9135-604a88e2a5b3",
   "metadata": {},
   "source": [
    "# PyTorch Workflow\n",
    "\n",
    "Esplorazione di un esempio di PyTorch end-to-end workflow\n",
    "\n",
    "![workflow](image/01_a_pytorch_workflow.png)\n",
    "\n",
    "\n",
    "| Topic\t| Contents|\n",
    "|-------|---------|\n",
    "| 1. Getting data ready | Data can be almost anything but to get started we're going to create a simple straight line| \n",
    "| 2. Building a model | Here we'll create a model to learn patterns in the data, we'll also choose a loss function, optimizer and build a training loop.| \n",
    "| 3. Fitting the model to data (training) | We've got data and a model, now let's let the model (try to) find patterns in the (training) data.| \n",
    "| 4. Making predictions and evaluating a model (inference) | Our model's found patterns in the data, let's compare its findings to the actual (testing) data.| \n",
    "| 5. Saving and loading a model | You may want to use your model elsewhere, or come back to it later, here we'll cover that.| \n",
    "| 6. Putting it all together | Let's take all of the above and combine it.| "
   ]
  },
  {
   "cell_type": "code",
   "execution_count": 2,
   "id": "d3a053a5-1180-4ee2-ad75-d903a118b2c4",
   "metadata": {},
   "outputs": [
    {
     "data": {
      "text/plain": [
       "'2.7.0'"
      ]
     },
     "execution_count": 2,
     "metadata": {},
     "output_type": "execute_result"
    }
   ],
   "source": [
    "import torch\n",
    "from torch import nn # nn contains all of PyTorch's building blocks for neural networks\n",
    "import matplotlib.pyplot as plt\n",
    "\n",
    "# Check pytorch version\n",
    "\n",
    "torch.__version__"
   ]
  },
  {
   "cell_type": "markdown",
   "id": "7661ccb9-c53e-4ff3-a0c5-5c32768cb187",
   "metadata": {},
   "source": [
    "## 1. Data (Prep and loading)\n",
    "\n",
    "Nel machine learning i dati possono essere quasi qualsiasi cosa:\n",
    "* Tabelle excel\n",
    "* Immagini di ogni tipo\n",
    "* Video\n",
    "* Audio\n",
    "* DNA\n",
    "* Testo\n",
    "\n",
    "Il Machine Learning è un gioco composto da due parti:\n",
    "1. Portare i dati in una forma numerica\n",
    "2. Costruire un modello che impara pattern da queste rappresentazioni numeriche.\n",
    "\n",
    "![ML](image/01-machine-learning-a-game-of-two-parts.png)\n",
    "\n",
    "Useremo la regressione lineare per creare dei dati\n",
    "$Y_{i}=f(X_i, \\beta)+e_i$\n",
    "\n",
    "* $Y_{i}$ è la variabile dipendente\n",
    "* $f$ è la funzione\n",
    "* $X_i$ è la variabile indipendente\n",
    "* $\\beta$ sono i parametri sconosciuti\n",
    "* $e_i$ errori\n",
    "\n",
    "Una regressione lineare ha la formula $$Y=a+bX$$ dove $X$ è la va vaiabile indipendente e $Y$ qyella dipendente.\n",
    "$b$ è la slope (pendenza) e $a$ è la sua intercetta (il valore di $y$ quando $x=0$)"
   ]
  },
  {
   "cell_type": "code",
   "execution_count": null,
   "id": "53a0dd22-6671-41ac-a811-a2239584a660",
   "metadata": {},
   "outputs": [],
   "source": []
  }
 ],
 "metadata": {
  "kernelspec": {
   "display_name": "Python 3 (ipykernel)",
   "language": "python",
   "name": "python3"
  },
  "language_info": {
   "codemirror_mode": {
    "name": "ipython",
    "version": 3
   },
   "file_extension": ".py",
   "mimetype": "text/x-python",
   "name": "python",
   "nbconvert_exporter": "python",
   "pygments_lexer": "ipython3",
   "version": "3.10.17"
  }
 },
 "nbformat": 4,
 "nbformat_minor": 5
}
