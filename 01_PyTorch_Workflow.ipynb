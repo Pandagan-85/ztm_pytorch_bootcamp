{
 "cells": [
  {
   "cell_type": "markdown",
   "id": "8757f748-f5b5-48d1-9135-604a88e2a5b3",
   "metadata": {},
   "source": [
    "# PyTorch Workflow\n",
    "\n",
    "Esplorazione di un esempio di PyTorch end-to-end workflow\n",
    "\n",
    "![workflow](image/01_a_pytorch_workflow.png)\n",
    "\n",
    "\n",
    "| Topic\t| Contents|\n",
    "|-------|---------|\n",
    "| 1. Getting data ready | Data can be almost anything but to get started we're going to create a simple straight line| \n",
    "| 2. Building a model | Here we'll create a model to learn patterns in the data, we'll also choose a loss function, optimizer and build a training loop.| \n",
    "| 3. Fitting the model to data (training) | We've got data and a model, now let's let the model (try to) find patterns in the (training) data.| \n",
    "| 4. Making predictions and evaluating a model (inference) | Our model's found patterns in the data, let's compare its findings to the actual (testing) data.| \n",
    "| 5. Saving and loading a model | You may want to use your model elsewhere, or come back to it later, here we'll cover that.| \n",
    "| 6. Putting it all together | Let's take all of the above and combine it.| "
   ]
  },
  {
   "cell_type": "code",
   "execution_count": 17,
   "id": "d3a053a5-1180-4ee2-ad75-d903a118b2c4",
   "metadata": {},
   "outputs": [
    {
     "data": {
      "text/plain": [
       "'2.7.0'"
      ]
     },
     "execution_count": 17,
     "metadata": {},
     "output_type": "execute_result"
    }
   ],
   "source": [
    "import torch\n",
    "from torch import nn # nn contains all of PyTorch's building blocks for neural networks\n",
    "import matplotlib.pyplot as plt\n",
    "\n",
    "# Check pytorch version\n",
    "\n",
    "torch.__version__"
   ]
  },
  {
   "cell_type": "markdown",
   "id": "7661ccb9-c53e-4ff3-a0c5-5c32768cb187",
   "metadata": {},
   "source": [
    "## 1. Data (Prep and loading)\n",
    "\n",
    "Nel machine learning i dati possono essere quasi qualsiasi cosa:\n",
    "* Tabelle excel\n",
    "* Immagini di ogni tipo\n",
    "* Video\n",
    "* Audio\n",
    "* DNA\n",
    "* Testo\n",
    "\n",
    "Il Machine Learning è un gioco composto da due parti:\n",
    "1. Portare i dati in una forma numerica\n",
    "2. Costruire un modello che impara pattern da queste rappresentazioni numeriche.\n",
    "\n",
    "![ML](image/01-machine-learning-a-game-of-two-parts.png)\n",
    "\n",
    "Useremo la regressione lineare per creare dei dati\n",
    "$Y_{i}=f(X_i, \\beta)+e_i$\n",
    "\n",
    "* $Y_{i}$ è la variabile dipendente\n",
    "* $f$ è la funzione\n",
    "* $X_i$ è la variabile indipendente\n",
    "* $\\beta$ sono i parametri sconosciuti\n",
    "* $e_i$ errori\n",
    "\n",
    "Una regressione lineare ha la formula $$Y=a+bX$$ dove $X$ è la va vaiabile indipendente e $Y$ qyella dipendente.\n",
    "$b$ è la slope (pendenza) e $a$ è la sua intercetta (il valore di $y$ quando $x=0$)\n",
    "\n",
    "**Useremo la formula della regressione lineare per costurire una linea retta con dei **parametri** _conosciuti_"
   ]
  },
  {
   "cell_type": "code",
   "execution_count": 18,
   "id": "53a0dd22-6671-41ac-a811-a2239584a660",
   "metadata": {},
   "outputs": [
    {
     "data": {
      "text/plain": [
       "(tensor([[0.0000],\n",
       "         [0.0200],\n",
       "         [0.0400],\n",
       "         [0.0600],\n",
       "         [0.0800],\n",
       "         [0.1000],\n",
       "         [0.1200],\n",
       "         [0.1400],\n",
       "         [0.1600],\n",
       "         [0.1800]]),\n",
       " tensor([[0.3000],\n",
       "         [0.3140],\n",
       "         [0.3280],\n",
       "         [0.3420],\n",
       "         [0.3560],\n",
       "         [0.3700],\n",
       "         [0.3840],\n",
       "         [0.3980],\n",
       "         [0.4120],\n",
       "         [0.4260]]))"
      ]
     },
     "execution_count": 18,
     "metadata": {},
     "output_type": "execute_result"
    }
   ],
   "source": [
    "# Create *Known* Parameters\n",
    "\n",
    "weight = 0.7 # weigth = b in te formula\n",
    "bias = 0.3 # bias = a in the formula\n",
    "\n",
    "# Create\n",
    "\n",
    "start = 0\n",
    "end = 1\n",
    "step = 0.02\n",
    "\n",
    "X = torch.arange(start,end,step).unsqueeze(dim=1) # trasforma il tensore da 1D shape [50] a 2D shape [50,1](diventa una matrice a una sola colonna)\n",
    "y = weight * X + bias\n",
    "\n",
    "X[:10], Y[:10]"
   ]
  },
  {
   "cell_type": "code",
   "execution_count": 19,
   "id": "c6905f39-747c-4b21-8239-a0a0ed8cd23e",
   "metadata": {},
   "outputs": [
    {
     "data": {
      "text/plain": [
       "(50, 50)"
      ]
     },
     "execution_count": 19,
     "metadata": {},
     "output_type": "execute_result"
    }
   ],
   "source": [
    "len(X), len(y)"
   ]
  },
  {
   "cell_type": "markdown",
   "id": "fb6a1d69-23d7-4ae4-897a-a70da3911f3a",
   "metadata": {},
   "source": [
    "## 1. Splitting data into training and test sets\n",
    "\n",
    "![3 sets](image/3_sets.png)\n",
    "\n",
    "| Split | Purpose |\tAmount of total data | How often is it used? |\n",
    "|-------|---------|----------------------|-----------------------|\n",
    "| **Training set** | The model learns from this data (like the course materials you study during the semester). | ~60-80% | Always |\n",
    "| **Validation set** | The model gets tuned on this data (like the practice exam you take before the final exam). | ~10-20% | Often but not always |\n",
    "| **Testing set** | The model gets evaluated on this data to test what it has learned (like the final exam you take at the end of the semester). | ~10-20% | Always |"
   ]
  },
  {
   "cell_type": "code",
   "execution_count": 20,
   "id": "68af2a1a-03f6-4994-9f4a-43324bd8b7ee",
   "metadata": {},
   "outputs": [
    {
     "data": {
      "text/plain": [
       "(40, 40, 10, 10)"
      ]
     },
     "execution_count": 20,
     "metadata": {},
     "output_type": "execute_result"
    }
   ],
   "source": [
    "# Create a train/test split\n",
    "train_split= int(0.8 * len(X))\n",
    "X_train, y_train = X[:train_split], y[:train_split]\n",
    "X_test, y_test = X[train_split:], y[train_split:]\n",
    "\n",
    "len(X_train), len(y_train), len(X_test), len(y_test)"
   ]
  },
  {
   "cell_type": "markdown",
   "id": "01f164b3-0ca6-41f3-be2b-1a0f440272ac",
   "metadata": {},
   "source": [
    "### Visualize, visualize, visualize"
   ]
  },
  {
   "cell_type": "code",
   "execution_count": 37,
   "id": "7762a98b-7caf-4064-ae18-3636c9475409",
   "metadata": {},
   "outputs": [],
   "source": [
    "def plot_predictions(train_data=X_train,\n",
    "                    train_labels = y_train,\n",
    "                    test_data = X_test,\n",
    "                    test_labels = y_test,\n",
    "                    predictions=None):\n",
    "    \"\"\"\n",
    "    Plots training data, test data and compares predictions.\n",
    "    \"\"\"\n",
    "\n",
    "    plt.figure(figsize=(10,7))\n",
    "\n",
    "    plt.scatter(train_data,train_labels, c=\"b\", s=4, label=\"Training Data\")\n",
    "\n",
    "    plt.scatter(test_data,test_labels, c=\"g\", s=4, label=\"Testing Data\")\n",
    "\n",
    "    if predictions is not None:\n",
    "        plt.scatter(test_data, predictions, c=\"r\", s=4, label=\"Predictions\")\n",
    "\n",
    "    plt.legend(prop={\"size\":14})"
   ]
  },
  {
   "cell_type": "code",
   "execution_count": 38,
   "id": "4245cdc8-889d-460a-938b-6d8d4272189f",
   "metadata": {},
   "outputs": [
    {
     "data": {
      "image/png": "[encoded data removed]",
      "text/plain": [
       "<Figure size 1000x700 with 1 Axes>"
      ]
     },
     "metadata": {},
     "output_type": "display_data"
    }
   ],
   "source": [
    "plot_predictions()"
   ]
  },
  {
   "cell_type": "markdown",
   "id": "63baef13-3eff-487c-b6d1-570348cea191",
   "metadata": {},
   "source": [
    "## 2 Build model\n",
    "* Iniziamo con valori randomici (weight & bias)\n",
    "* Guarderà ai nostri training data e aggiusterà i valori randomici per rappresentare meglio i valori ideali (wight & bias usati per crear ei dati)\n",
    "\n",
    "Questa avverrà attraverso due algoritmi principali:\n",
    "\n",
    "* **Gradient descend** (calcolo loss, calcolo dei delle derivate parziali rispetto la losso per il gradiente)\n",
    "* **Backpropagation** ( I valori verranno passati all'indietro per sistemare i nuovi pesi, per determinare quanto ogni peso contribuisce all'errore)"
   ]
  },
  {
   "cell_type": "code",
   "execution_count": 40,
   "id": "aff6a07c-899c-4360-b306-0d0fce7a7e3d",
   "metadata": {},
   "outputs": [],
   "source": [
    "# Create a Linear Regression model class\n",
    "class LinearRegressionModel(nn.Module): # <- almost everything in PyTorch is a nn.Module (think of this as neural network lego blocks)\n",
    "    def __init__(self):\n",
    "        super().__init__() \n",
    "        self.weights = nn.Parameter(torch.randn(1, # <- start with random weights (this will get adjusted as the model learns)\n",
    "                                                dtype=torch.float), # <- PyTorch loves float32 by default\n",
    "                                   requires_grad=True) # <- can we update this value with gradient descent?)\n",
    "\n",
    "        self.bias = nn.Parameter(torch.randn(1, # <- start with random bias (this will get adjusted as the model learns)\n",
    "                                            dtype=torch.float), # <- PyTorch loves float32 by default\n",
    "                                requires_grad=True) # <- can we update this value with gradient descent?))\n",
    "\n",
    "    # Forward defines the computation in the model\n",
    "    def forward(self, x: torch.Tensor) -> torch.Tensor: # <- \"x\" is the input data (e.g. training/testing features)\n",
    "        return self.weights * x + self.bias # <- this is the linear regression formula (y = m*x + b)"
   ]
  },
  {
   "cell_type": "markdown",
   "id": "d2888fd3-8fe4-4d40-a069-4990ccc83110",
   "metadata": {},
   "source": [
    "PyTorch ha **4 moduli essenziali**.\n",
    "\n",
    "Sono `torch.nn`, `torch.optim`, `torch.utils.data.Dataset` e `torch.utils.data.DataLoader`. \n",
    "\n",
    "| `PyTorch module` | What does it do?|\n",
    "|------------------|------------------|\n",
    "| `torch.nn` |\tContiene tutti gli elementi costitutivi dei grafici computazionali (essenzialmente una serie di calcoli eseguiti in un modo particolare).|\n",
    "| `torch.nn.Parameter`\t | Memorizza i tensori che possono essere utilizzati con `nn.Module`. Se `requires_grad=True`, i gradienti (utilizzati per aggiornare i parametri del modello tramite la discesa del gradiente) vengono calcolati automaticamente, questo viene spesso definito \"autograd\".|\n",
    "| `torch.nn.Module` | \tLa classe base per tutti i moduli di rete neurale, tutti i componenti fondamentali per le reti neurali sono sottoclassi. Se stai costruendo una rete neurale in PyTorch, i tuoi modelli dovrebbero essere sottoclassi di `nn.Module`. Richiede l'implementazione di un metodo `forward()`.|\n",
    "| `torch.optim`\t | Contiene vari algoritmi di ottimizzazione (che indicano ai parametri del modello memorizzati in `nn.Parameter` come apportare le modifiche migliori per migliorare la discesa del gradiente e, di conseguenza, ridurre la perdita).|\n",
    "| `def forward()`\t | Tutte le sottoclassi di `nn.Module` richiedono un metodo `forward()`, che definisce il calcolo che verrà eseguito sui dati passati al particolare nn.Module (ad esempio la formula di regressione lineare di cui sopra). |\n",
    "\n",
    "\n",
    "Quasi ogni cosa in una rete neurale con PyTorch viene da `torch.nn`,\n",
    "\n",
    "* `nn.Module` contains the larger building blocks (layers)\n",
    "* `nn.Parameter` contains the smaller parameters like weights and biases (put these together to make nn.Module(s))\n",
    "* `forward()` tells the larger blocks how to make calculations on inputs (tensors full of data) within nn.Module(s)\n",
    "* `torch.optim` contains optimization methods on how to improve the parameters within nn.Parameter to better represent input data\n",
    "\n",
    "![](image/01-pytorch-linear-model-annotated.png)"
   ]
  },
  {
   "cell_type": "markdown",
   "id": "a0eb8a13-1e72-477c-8d6c-8f696ae3f10b",
   "metadata": {},
   "source": [
    "### Checking the content of out PyTotch Model\n",
    "\n",
    "`.parameters()`"
   ]
  },
  {
   "cell_type": "code",
   "execution_count": 41,
   "id": "085ca243-8539-45c7-91d6-e02b959bb1e5",
   "metadata": {},
   "outputs": [
    {
     "data": {
      "text/plain": [
       "[Parameter containing:\n",
       " tensor([0.3367], requires_grad=True),\n",
       " Parameter containing:\n",
       " tensor([0.1288], requires_grad=True)]"
      ]
     },
     "execution_count": 41,
     "metadata": {},
     "output_type": "execute_result"
    }
   ],
   "source": [
    "# Create a random seed\n",
    "\n",
    "torch.manual_seed(42)\n",
    "\n",
    "# Create an istance of the model\n",
    "model_0 = LinearRegressionModel()\n",
    "\n",
    "# Check out the parameters\n",
    "list(model_0.parameters())"
   ]
  },
  {
   "cell_type": "code",
   "execution_count": 42,
   "id": "3d8219d0-113c-4ec1-914d-26b6b53f2036",
   "metadata": {},
   "outputs": [
    {
     "data": {
      "text/plain": [
       "OrderedDict([('weights', tensor([0.3367])), ('bias', tensor([0.1288]))])"
      ]
     },
     "execution_count": 42,
     "metadata": {},
     "output_type": "execute_result"
    }
   ],
   "source": [
    "# List named parameters\n",
    "model_0.state_dict()"
   ]
  },
  {
   "cell_type": "code",
   "execution_count": 43,
   "id": "59ec304b-c48f-4a0a-96c8-4ad1d3bf4d06",
   "metadata": {},
   "outputs": [
    {
     "data": {
      "text/plain": [
       "(0.7, 0.3)"
      ]
     },
     "execution_count": 43,
     "metadata": {},
     "output_type": "execute_result"
    }
   ],
   "source": [
    "weight, bias"
   ]
  },
  {
   "cell_type": "markdown",
   "id": "ed78f08d-d6ac-47bc-b452-b309f418689b",
   "metadata": {},
   "source": [
    "Il nostro goal è fare in modo che i valori siano il più vicini possibile a quelli da noi creati (che nella realtà non sono cosciuti)"
   ]
  },
  {
   "cell_type": "markdown",
   "id": "1affa63c-4d68-4d65-bed8-d417186c4531",
   "metadata": {},
   "source": [
    "## Making prediction using `torch.inference_mode()`\n",
    "\n",
    "Per controllare il potere di predizione, veidamo quanto bene predice `y_test` basandosi su `X_test`\n",
    "Quando passiamo dei dati al nostro modello, lui girerà attraverso il metodo `forward()`"
   ]
  },
  {
   "cell_type": "code",
   "execution_count": 44,
   "id": "39fdc7eb-4452-4366-bf5d-485abeda99ac",
   "metadata": {},
   "outputs": [
    {
     "data": {
      "text/plain": [
       "tensor([[0.3982],\n",
       "        [0.4049],\n",
       "        [0.4116],\n",
       "        [0.4184],\n",
       "        [0.4251],\n",
       "        [0.4318],\n",
       "        [0.4386],\n",
       "        [0.4453],\n",
       "        [0.4520],\n",
       "        [0.4588]])"
      ]
     },
     "execution_count": 44,
     "metadata": {},
     "output_type": "execute_result"
    }
   ],
   "source": [
    "# Make prediction with model\n",
    "\n",
    "with torch.inference_mode():\n",
    "    y_preds = model_0(X_test)\n",
    "\n",
    "y_preds"
   ]
  },
  {
   "cell_type": "code",
   "execution_count": 39,
   "id": "bfcdc501-43e6-4083-92c3-f85876643f13",
   "metadata": {},
   "outputs": [
    {
     "data": {
      "image/png": "[encoded data removed]",
      "text/plain": [
       "<Figure size 1000x700 with 1 Axes>"
      ]
     },
     "metadata": {},
     "output_type": "display_data"
    }
   ],
   "source": [
    "plot_predictions(predictions=y_preds)"
   ]
  },
  {
   "cell_type": "markdown",
   "id": "aa23c141-8a97-45d9-ad70-7cb323fef525",
   "metadata": {},
   "source": [
    "### 3 Train model\n",
    "L'intera idea di training per un modello è muoversi da *unknown* parameters (random) a *know* parameters.\n",
    "Ovvero da una rappresentazione *scarsa* (i punti rossi) a una più accurata.\n",
    "\n",
    "Un modo per misurare quanto male un modello predice i valori è usare la **loss function**\n",
    "\n",
    "Una loss function può essere anche chiamata cost function o criterion function.\n",
    "\n",
    "**Optimizer** prende la loss di un modello e aggiusta i parametri del modello per migliorare la loss function.\n",
    "\n",
    "In PyTorch abbiamo bisogno:\n",
    "- Un training loop\n",
    "- Un test loop"
   ]
  },
  {
   "cell_type": "code",
   "execution_count": null,
   "id": "05631e4a-7446-45d7-9bbc-5b41a1536b38",
   "metadata": {},
   "outputs": [],
   "source": []
  }
 ],
 "metadata": {
  "kernelspec": {
   "display_name": "Python 3 (ipykernel)",
   "language": "python",
   "name": "python3"
  },
  "language_info": {
   "codemirror_mode": {
    "name": "ipython",
    "version": 3
   },
   "file_extension": ".py",
   "mimetype": "text/x-python",
   "name": "python",
   "nbconvert_exporter": "python",
   "pygments_lexer": "ipython3",
   "version": "3.10.17"
  }
 },
 "nbformat": 4,
 "nbformat_minor": 5
}
