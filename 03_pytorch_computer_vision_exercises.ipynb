{
 "cells": [
  {
   "cell_type": "markdown",
   "metadata": {
    "colab_type": "text",
    "id": "view-in-github"
   },
   "source": [
    "<a href=\"https://colab.research.google.com/github/mrdbourke/pytorch-deep-learning/blob/main/extras/exercises/03_pytorch_computer_vision_exercises.ipynb\" target=\"_parent\"><img src=\"https://colab.research.google.com/assets/colab-badge.svg\" alt=\"Open In Colab\"/></a>"
   ]
  },
  {
   "cell_type": "markdown",
   "metadata": {
    "id": "Vex99np2wFVt"
   },
   "source": [
    "# 03. PyTorch Computer Vision Exercises\n",
    "\n",
    "The following is a collection of exercises based on computer vision fundamentals in PyTorch.\n",
    "\n",
    "They're a bunch of fun.\n",
    "\n",
    "You're going to get to write plenty of code!\n",
    "\n",
    "## Resources\n",
    "\n",
    "1. These exercises are based on [notebook 03 of the Learn PyTorch for Deep Learning course](https://www.learnpytorch.io/03_pytorch_computer_vision/). \n",
    "2. See a live [walkthrough of the solutions (errors and all) on YouTube](https://youtu.be/_PibmqpEyhA). \n",
    "  * **Note:** Going through these exercises took me just over 3 hours of solid coding, so you should expect around the same.\n",
    "3. See [other solutions on the course GitHub](https://github.com/mrdbourke/pytorch-deep-learning/tree/main/extras/solutions)."
   ]
  },
  {
   "cell_type": "code",
   "execution_count": 5,
   "metadata": {},
   "outputs": [],
   "source": [
    "# Import torch\n",
    "import torch\n",
    "from torch import nn\n",
    "\n",
    "import torchvision\n",
    "from torchvision import datasets\n",
    "from torchvision import transforms\n",
    "from torchvision.transforms import ToTensor\n",
    "\n",
    "import matplotlib.pyplot as plt"
   ]
  },
  {
   "cell_type": "code",
   "execution_count": 7,
   "metadata": {
    "colab": {
     "base_uri": "https://localhost:8080/",
     "height": 53
    },
    "id": "DNwZLMbCzJLk",
    "outputId": "9c150c50-a092-4f34-9d33-b45247fb080d"
   },
   "outputs": [
    {
     "name": "stdout",
     "output_type": "stream",
     "text": [
      "2.7.0\n",
      "mps\n"
     ]
    }
   ],
   "source": [
    "# Exercises require PyTorch > 1.10.0\n",
    "print(torch.__version__)\n",
    "\n",
    "# TODO: Setup device agnostic code\n",
    "def get_device():\n",
    "    if torch.backends.mps.is_available():\n",
    "        return torch.device(\"mps\")\n",
    "    elif torch.cuda.is_available():\n",
    "        return torch.device(\"cuda\")\n",
    "    else:\n",
    "        return torch.device(\"cpu\")\n",
    "\n",
    "# Poi usa\n",
    "device = get_device()\n",
    "print(device)\n"
   ]
  },
  {
   "cell_type": "markdown",
   "metadata": {
    "id": "FSFX7tc1w-en"
   },
   "source": [
    "## 1. What are 3 areas in industry where computer vision is currently being used?"
   ]
  },
  {
   "cell_type": "markdown",
   "metadata": {
    "id": "VyWRkvWGbCXj"
   },
   "source": [
    "- Halthcare and Medical Imaging\n",
    "- Quality Control\n",
    "- Security"
   ]
  },
  {
   "cell_type": "markdown",
   "metadata": {
    "id": "oBK-WI6YxDYa"
   },
   "source": [
    "## 2. Search \"what is overfitting in machine learning\" and write down a sentence about what you find. "
   ]
  },
  {
   "cell_type": "markdown",
   "metadata": {
    "id": "d1rxD6GObCqh"
   },
   "source": [
    "Overfitting occurs when a machine learning model learns the training data too well, memorizing specific details and noise rather than learning the underlying patterns that would help it perform well on new, unseen data."
   ]
  },
  {
   "cell_type": "markdown",
   "metadata": {
    "id": "XeYFEqw8xK26"
   },
   "source": [
    "## 3. Search \"ways to prevent overfitting in machine learning\", write down 3 of the things you find and a sentence about each. \n",
    "> **Note:** there are lots of these, so don't worry too much about all of them, just pick 3 and start with those."
   ]
  },
  {
   "cell_type": "markdown",
   "metadata": {
    "id": "ocvOdWKcbEKr"
   },
   "source": [
    "Use more training data, apply regularization techniques, implement cross-validation, reduce model complexity, or use dropout layers in neural networks. Early stopping during training can also help by halting the process before the model starts memorizing noise."
   ]
  },
  {
   "cell_type": "markdown",
   "metadata": {
    "id": "DKdEEFEqxM-8"
   },
   "source": [
    "## 4. Spend 20-minutes reading and clicking through the [CNN Explainer website](https://poloclub.github.io/cnn-explainer/)."
   ]
  },
  {
   "cell_type": "markdown",
   "metadata": {
    "id": "lvf-3pODxXYI"
   },
   "source": [
    "## 5. Load the [`torchvision.datasets.MNIST()`](https://pytorch.org/vision/stable/generated/torchvision.datasets.MNIST.html#torchvision.datasets.MNIST) train and test datasets."
   ]
  },
  {
   "cell_type": "code",
   "execution_count": 8,
   "metadata": {
    "id": "SHjeuN81bHza"
   },
   "outputs": [
    {
     "name": "stderr",
     "output_type": "stream",
     "text": [
      "100%|███████████████████████████████████████████████████████████████████████████████████████████████| 9.91M/9.91M [00:03<00:00, 2.67MB/s]\n",
      "100%|████████████████████████████████████████████████████████████████████████████████████████████████| 28.9k/28.9k [00:00<00:00, 241kB/s]\n",
      "100%|███████████████████████████████████████████████████████████████████████████████████████████████| 1.65M/1.65M [00:01<00:00, 1.35MB/s]\n",
      "100%|███████████████████████████████████████████████████████████████████████████████████████████████| 4.54k/4.54k [00:00<00:00, 1.22MB/s]\n"
     ]
    }
   ],
   "source": [
    "# Setup training data\n",
    "from torchvision import datasets\n",
    "train_data = datasets.MNIST(\n",
    "    root=\"data\",\n",
    "    train=True,\n",
    "    download=True,\n",
    "    transform=torchvision.transforms.ToTensor(), # how do we want transfor the data?\n",
    "    target_transform=None # how do we want transfor the targets?\n",
    ")\n",
    "\n",
    "test_data = datasets.MNIST(\n",
    "    root=\"data\",\n",
    "    train=False,\n",
    "    download=True,\n",
    "    transform=torchvision.transforms.ToTensor(), # how do we want transfor the data?\n",
    "    target_transform=None # how do we want transfor the targets?\n",
    ")"
   ]
  },
  {
   "cell_type": "code",
   "execution_count": 9,
   "metadata": {},
   "outputs": [
    {
     "data": {
      "text/plain": [
       "(60000, 10000)"
      ]
     },
     "execution_count": 9,
     "metadata": {},
     "output_type": "execute_result"
    }
   ],
   "source": [
    "len(train_data), len(test_data)"
   ]
  },
  {
   "cell_type": "markdown",
   "metadata": {
    "id": "qxZW-uAbxe_F"
   },
   "source": [
    "## 6. Visualize at least 5 different samples of the MNIST training dataset."
   ]
  },
  {
   "cell_type": "code",
   "execution_count": 10,
   "metadata": {
    "id": "QVFsYi1PbItE"
   },
   "outputs": [
    {
     "data": {
      "text/plain": [
       "['0 - zero',\n",
       " '1 - one',\n",
       " '2 - two',\n",
       " '3 - three',\n",
       " '4 - four',\n",
       " '5 - five',\n",
       " '6 - six',\n",
       " '7 - seven',\n",
       " '8 - eight',\n",
       " '9 - nine']"
      ]
     },
     "execution_count": 10,
     "metadata": {},
     "output_type": "execute_result"
    }
   ],
   "source": [
    "class_names = train_data.classes\n",
    "class_names"
   ]
  },
  {
   "cell_type": "code",
   "execution_count": 11,
   "metadata": {},
   "outputs": [
    {
     "data": {
      "text/plain": [
       "{'0 - zero': 0,\n",
       " '1 - one': 1,\n",
       " '2 - two': 2,\n",
       " '3 - three': 3,\n",
       " '4 - four': 4,\n",
       " '5 - five': 5,\n",
       " '6 - six': 6,\n",
       " '7 - seven': 7,\n",
       " '8 - eight': 8,\n",
       " '9 - nine': 9}"
      ]
     },
     "execution_count": 11,
     "metadata": {},
     "output_type": "execute_result"
    }
   ],
   "source": [
    "class_to_idx = train_data.class_to_idx\n",
    "class_to_idx"
   ]
  },
  {
   "cell_type": "code",
   "execution_count": 13,
   "metadata": {},
   "outputs": [
    {
     "name": "stdout",
     "output_type": "stream",
     "text": [
      "Image Shape: torch.Size([1, 28, 28]) -> [color_channels, height, width]\n",
      "Image Label: 5 -> 5 - five\n"
     ]
    }
   ],
   "source": [
    "# See the first training sample\n",
    "image, label = train_data[0]\n",
    "image, label\n",
    "# Check the shape of our image\n",
    "print(f\"Image Shape: {image.shape} -> [color_channels, height, width]\")\n",
    "print(f\"Image Label: {label} -> {class_names[label]}\")"
   ]
  },
  {
   "cell_type": "code",
   "execution_count": 16,
   "metadata": {},
   "outputs": [
    {
     "data": {
      "image/png": "[encoded data removed]",
      "text/plain": [
       "<Figure size 900x900 with 9 Axes>"
      ]
     },
     "metadata": {},
     "output_type": "display_data"
    }
   ],
   "source": [
    "# Plot 5\n",
    "torch.manual_seed(42)\n",
    "fig = plt.figure(figsize=(9,9))\n",
    "rows, cols = 3,3\n",
    "for i in range(1, rows*cols+1):\n",
    "    random_idx = torch.randint(0, len(train_data), size=[1]).item()\n",
    "    image, label = train_data[random_idx]\n",
    "    fig.add_subplot(rows,cols,i)\n",
    "    plt.imshow(image.squeeze(), cmap=\"gray\")\n",
    "    plt.title(f\"{label} -> {class_names[label]}\");\n",
    "    plt.axis(False)"
   ]
  },
  {
   "cell_type": "markdown",
   "metadata": {
    "id": "JAPDzW0wxhi3"
   },
   "source": [
    "## 7. Turn the MNIST train and test datasets into dataloaders using `torch.utils.data.DataLoader`, set the `batch_size=32`."
   ]
  },
  {
   "cell_type": "code",
   "execution_count": 17,
   "metadata": {
    "id": "ALA6MPcFbJXQ"
   },
   "outputs": [
    {
     "data": {
      "text/plain": [
       "(<torch.utils.data.dataloader.DataLoader at 0x12600ad10>,\n",
       " <torch.utils.data.dataloader.DataLoader at 0x126008520>)"
      ]
     },
     "execution_count": 17,
     "metadata": {},
     "output_type": "execute_result"
    }
   ],
   "source": [
    "from torch.utils.data import DataLoader\n",
    "# setup batch size hyperparameter\n",
    "BATCH_SIZE = 32\n",
    "# Turn datasets into iterables\n",
    "train_dataloader = DataLoader(\n",
    "    dataset=train_data,\n",
    "    batch_size=BATCH_SIZE,\n",
    "    shuffle=True\n",
    ")\n",
    "\n",
    "test_dataloader = DataLoader(\n",
    "    dataset=test_data,\n",
    "    batch_size=BATCH_SIZE,\n",
    "    shuffle=False\n",
    ")\n",
    "\n",
    "train_dataloader,test_dataloader\n"
   ]
  },
  {
   "cell_type": "code",
   "execution_count": 18,
   "metadata": {},
   "outputs": [
    {
     "name": "stdout",
     "output_type": "stream",
     "text": [
      "Dataloaders: (<torch.utils.data.dataloader.DataLoader object at 0x12600ad10>, <torch.utils.data.dataloader.DataLoader object at 0x126008520>)\n",
      "Length of train_dataloader: 1875 batches of 32\n",
      "Length of test_dataloader: 313 batches of 32\n"
     ]
    }
   ],
   "source": [
    "# Let's checkout what we've created\n",
    "\n",
    "print(f\"Dataloaders: {train_dataloader, test_dataloader}\")\n",
    "print(f\"Length of train_dataloader: {len(train_dataloader)} batches of {BATCH_SIZE}\")\n",
    "print(f\"Length of test_dataloader: {len(test_dataloader)} batches of {BATCH_SIZE}\")\n"
   ]
  },
  {
   "cell_type": "markdown",
   "metadata": {
    "id": "bCCVfXk5xjYS"
   },
   "source": [
    "## 8. Recreate `model_2` used in notebook 03 (the same model from the [CNN Explainer website](https://poloclub.github.io/cnn-explainer/), also known as TinyVGG) capable of fitting on the MNIST dataset."
   ]
  },
  {
   "cell_type": "code",
   "execution_count": 19,
   "metadata": {
    "id": "5IKNF22XbKYS"
   },
   "outputs": [],
   "source": [
    "# Create a convolutional Neural Network\n",
    "class MNISTMODEL(nn.Module):\n",
    "    \"\"\"\n",
    "    Model architecture that replicate TinyVGG\n",
    "    model from CNN explainer website.\n",
    "    \"\"\"\n",
    "    def __init__(self, input_shape: int, hidden_units: int, output_shape:int):\n",
    "        super().__init__()\n",
    "        self.conv_block_1 = nn.Sequential(\n",
    "            nn.Conv2d(in_channels=input_shape,\n",
    "                     out_channels=hidden_units,\n",
    "                     kernel_size=3,\n",
    "                     stride=1,\n",
    "                     padding=1),\n",
    "            nn.ReLU(),\n",
    "            nn.Conv2d(in_channels=hidden_units,\n",
    "                     out_channels=hidden_units,\n",
    "                     kernel_size=3,\n",
    "                     stride=1,\n",
    "                     padding=1),\n",
    "            nn.ReLU(),\n",
    "            nn.MaxPool2d(kernel_size=2)\n",
    "        )\n",
    "        self.conv_block_2 = nn.Sequential(\n",
    "            nn.Conv2d(in_channels=hidden_units,\n",
    "                     out_channels=hidden_units,\n",
    "                     kernel_size=3,\n",
    "                     stride=1,\n",
    "                     padding=1),\n",
    "            nn.ReLU(),\n",
    "            nn.Conv2d(in_channels=hidden_units,\n",
    "                     out_channels=hidden_units,\n",
    "                     kernel_size=3,\n",
    "                     stride=1,\n",
    "                     padding=1),\n",
    "            nn.ReLU(),\n",
    "            nn.MaxPool2d(kernel_size=2)\n",
    "        )\n",
    "        self.classifier = nn.Sequential(\n",
    "            nn.Flatten(),\n",
    "            nn.Linear(in_features=hidden_units*7*7,\n",
    "                      out_features=output_shape)\n",
    "        )\n",
    "    def forward(self,x):\n",
    "        x = self.conv_block_1(x)\n",
    "        # print(f\"Output shape of conv_block_1: {x.shape}\")\n",
    "        x = self.conv_block_2(x)\n",
    "        # print(f\"Output shape of conv_block_2: {x.shape}\")\n",
    "        x = self.classifier(x)\n",
    "        # print(f\"Output shape of classifier: {x.shape}\")\n",
    "        return x\n",
    "        "
   ]
  },
  {
   "cell_type": "code",
   "execution_count": 20,
   "metadata": {},
   "outputs": [],
   "source": [
    "torch.manual_seed(42)\n",
    "\n",
    "model = MNISTMODEL(input_shape=1, # one colore\n",
    "                              hidden_units=10,\n",
    "                              output_shape=len(class_names)).to(device)"
   ]
  },
  {
   "cell_type": "code",
   "execution_count": 22,
   "metadata": {},
   "outputs": [
    {
     "name": "stdout",
     "output_type": "stream",
     "text": [
      "Sequential(\n",
      "  (0): Flatten(start_dim=1, end_dim=-1)\n",
      "  (1): Linear(in_features=490, out_features=10, bias=True)\n",
      ")\n"
     ]
    }
   ],
   "source": [
    "print(model.classifier)"
   ]
  },
  {
   "cell_type": "markdown",
   "metadata": {
    "id": "sf_3zUr7xlhy"
   },
   "source": [
    "## 9. Train the model you built in exercise 8. for 5 epochs on CPU and GPU and see how long it takes on each."
   ]
  },
  {
   "cell_type": "code",
   "execution_count": 26,
   "metadata": {},
   "outputs": [],
   "source": [
    "def train_step(model: torch.nn.Module,\n",
    "              data_loader: torch.utils.data.DataLoader,\n",
    "              loss_fn: torch.nn.Module,\n",
    "              optimizer: torch.optim.Optimizer,\n",
    "              accuracy_fn,\n",
    "              device: torch.device =device):\n",
    "    \"\"\"Performs a training with model trying to learn on data_laoder\"\"\" \n",
    "    train_loss, train_acc = 0,0\n",
    "\n",
    "    model.train()\n",
    "    \n",
    "    for batch, (X,y) in enumerate(data_loader):\n",
    "\n",
    "        # Put data on target device\n",
    "        X, y = X.to(device), y.to(device)\n",
    "        \n",
    "        # 1. Forward pass\n",
    "        y_pred = model(X)\n",
    "\n",
    "        # 2 . Calculatre the loss (per batch)\n",
    "        loss = loss_fn(y_pred, y)\n",
    "        train_loss += loss \n",
    "        train_acc += accuracy_fn(y_true=y, y_pred=y_pred.argmax(dim=1)) # from logits -> prediction labels\n",
    "\n",
    "        # 3. Optimizer Zero Grad\n",
    "        optimizer.zero_grad()\n",
    "\n",
    "        # 4. Loss backward\n",
    "        loss.backward()\n",
    "\n",
    "        # Backpropagation\n",
    "        optimizer.step()\n",
    "\n",
    "       \n",
    "    \n",
    "    # Divide total train loss by lenght of train dataloader\n",
    "    train_loss/= len(data_loader)\n",
    "    train_acc /= len(data_loader)\n",
    "\n",
    "     # Print out what's happening\n",
    "    print(f\"Train loss: {train_loss:.5f} | Train Acc: {train_acc:.2f}\")"
   ]
  },
  {
   "cell_type": "code",
   "execution_count": 27,
   "metadata": {},
   "outputs": [],
   "source": [
    "def test_step(model: torch.nn.Module,\n",
    "             data_loader: torch.utils.data.DataLoader,\n",
    "             loss_fn: torch.nn.Module,\n",
    "             accuracy_fn,\n",
    "             device: torch.device = device):\n",
    "    \"\"\"Performs a testing loop step on model going over data_loader\"\"\"\n",
    "\n",
    "    test_loss, test_acc = 0,0\n",
    "\n",
    "    model.eval()\n",
    "\n",
    "    with torch.inference_mode():\n",
    "        for X,y in data_loader:\n",
    "            X,y = X.to(device), y.to(device)\n",
    "\n",
    "            test_pred = model(X)\n",
    "\n",
    "            test_loss += loss_fn(test_pred, y)\n",
    "\n",
    "            test_acc += accuracy_fn(y_true=y, \n",
    "                                    y_pred=test_pred.argmax(dim=1))\n",
    "\n",
    "        # Adjust metrics and print out\n",
    "        test_loss /= len(data_loader)\n",
    "        test_acc /= len(data_loader)\n",
    "        print(f\"Test loss: {test_loss:.5f} | Test acc: {test_acc:.2f}%\\n \")\n",
    "            "
   ]
  },
  {
   "cell_type": "code",
   "execution_count": 33,
   "metadata": {},
   "outputs": [],
   "source": [
    "torch.manual_seed(42)\n",
    "def eval_model(model: torch.nn.Module,\n",
    "              data_loader: torch.utils.data.DataLoader,\n",
    "              loss_fn: torch.nn.Module,\n",
    "              accuracy_fn,\n",
    "              device):\n",
    "    \"\"\"Return a dictionary containing the results of model predicting on data_loader\"\"\"\n",
    "    loss, acc = 0, 0\n",
    "    model.eval()\n",
    "    with torch.inference_mode():\n",
    "        \n",
    "        for X, y in data_loader:\n",
    "            # Make our data device agnostic\n",
    "            X,y = X.to(device), y.to(device)\n",
    "            # Make predictions\n",
    "            y_pred = model(X)\n",
    "\n",
    "            # Accumulate the loss and acc values per batch\n",
    "            loss += loss_fn(y_pred, y)\n",
    "            acc += accuracy_fn(y_true=y,\n",
    "                              y_pred=y_pred.argmax(dim=1))\n",
    "\n",
    "        # Scale loss and acc to find average loss/acc per batch\n",
    "        loss /= len(data_loader)\n",
    "        acc /= len(data_loader)\n",
    "\n",
    "    return {\"model_name\": model.__class__.__name__, # only works when model was created with a class\n",
    "           \"model_loss\": loss.item(),\n",
    "           \"model_acc\": acc}"
   ]
  },
  {
   "cell_type": "code",
   "execution_count": 28,
   "metadata": {
    "id": "jSo6vVWFbNLD"
   },
   "outputs": [],
   "source": [
    "## Setup loss function and optimizer\n",
    "\n",
    "from helper_functions import accuracy_fn\n",
    "\n",
    "loss_fn = nn.CrossEntropyLoss()\n",
    "optimizer = torch.optim.SGD(params=model.parameters(),\n",
    "                           lr=0.1)"
   ]
  },
  {
   "cell_type": "code",
   "execution_count": null,
   "metadata": {},
   "outputs": [],
   "source": [
    "model.state_dict()"
   ]
  },
  {
   "cell_type": "code",
   "execution_count": 29,
   "metadata": {},
   "outputs": [
    {
     "name": "stdout",
     "output_type": "stream",
     "text": [
      "Epoch: 0\n",
      "-------\n",
      "Train loss: 0.33371 | Train Acc: 88.78\n",
      "Test loss: 0.07267 | Test acc: 97.67%\n",
      " \n",
      "Epoch: 1\n",
      "-------\n",
      "Train loss: 0.08133 | Train Acc: 97.45\n",
      "Test loss: 0.07364 | Test acc: 97.60%\n",
      " \n",
      "Epoch: 2\n",
      "-------\n",
      "Train loss: 0.06434 | Train Acc: 97.98\n",
      "Test loss: 0.05480 | Test acc: 98.14%\n",
      " \n"
     ]
    }
   ],
   "source": [
    "## Training Model\n",
    "torch.manual_seed(42)\n",
    "\n",
    "torch.mps.manual_seed(42)\n",
    "\n",
    "# Train and test model\n",
    "epochs = 3\n",
    "for epoch in range(epochs):\n",
    "    print(f\"Epoch: {epoch}\\n-------\")\n",
    "    train_step(model=model,\n",
    "              data_loader=train_dataloader,\n",
    "              loss_fn=loss_fn,\n",
    "              optimizer=optimizer,\n",
    "              accuracy_fn=accuracy_fn,\n",
    "              device=device)\n",
    "    test_step(model=model,\n",
    "             data_loader=test_dataloader,\n",
    "             loss_fn=loss_fn,\n",
    "             accuracy_fn=accuracy_fn,\n",
    "             device=device)"
   ]
  },
  {
   "cell_type": "code",
   "execution_count": 34,
   "metadata": {},
   "outputs": [
    {
     "data": {
      "text/plain": [
       "{'model_name': 'MNISTMODEL',\n",
       " 'model_loss': 0.054796792566776276,\n",
       " 'model_acc': 98.1429712460064}"
      ]
     },
     "execution_count": 34,
     "metadata": {},
     "output_type": "execute_result"
    }
   ],
   "source": [
    "# Get model results\n",
    "model_results = eval_model(\n",
    "    model=model,\n",
    "    data_loader=test_dataloader,\n",
    "    loss_fn=loss_fn,\n",
    "    accuracy_fn=accuracy_fn,\n",
    "    device=device\n",
    ")\n",
    "\n",
    "model_results"
   ]
  },
  {
   "cell_type": "markdown",
   "metadata": {
    "id": "w1CsHhPpxp1w"
   },
   "source": [
    "## 10. Make predictions using your trained model and visualize at least 5 of them comparing the prediciton to the target label."
   ]
  },
  {
   "cell_type": "code",
   "execution_count": 38,
   "metadata": {},
   "outputs": [],
   "source": [
    "import matplotlib.pyplot as plt\n",
    "import torch\n",
    "import random\n",
    "\n",
    "def visualize_predictions(model, test_dataset, num_samples=5, device=None):\n",
    "    \"\"\"\n",
    "    Visualizza le predizioni del modello confrontandole con le label target\n",
    "    \n",
    "    Args:\n",
    "        model: Il modello addestrato\n",
    "        test_dataset: Il dataset di test (es. test_data)\n",
    "        num_samples: Numero di campioni da visualizzare\n",
    "        device: Device su cui eseguire il modello\n",
    "    \"\"\"\n",
    "    if device is None:\n",
    "        # Gestisce MPS per Mac, CUDA per GPU NVIDIA, altrimenti CPU\n",
    "        if torch.backends.mps.is_available():\n",
    "            device = torch.device(\"mps\")\n",
    "        elif torch.cuda.is_available():\n",
    "            device = torch.device(\"cuda\")\n",
    "        else:\n",
    "            device = torch.device(\"cpu\")\n",
    "            \n",
    "    # Seleziona campioni casuali\n",
    "    random_indices = random.sample(range(len(test_dataset)), num_samples)\n",
    "    \n",
    "    # Crea una figura con subplot\n",
    "    fig, axes = plt.subplots(1, num_samples, figsize=(15, 3))\n",
    "    if num_samples == 1:\n",
    "        axes = [axes]\n",
    "    \n",
    "    model.to(device)\n",
    "    model.eval()\n",
    "    \n",
    "    with torch.inference_mode():\n",
    "        for i, idx in enumerate(random_indices):\n",
    "            # Ottieni il campione e la label target\n",
    "            sample, target_label = test_dataset[idx]\n",
    "            \n",
    "            # Fai la predizione\n",
    "            sample_batch = torch.unsqueeze(sample, dim=0).to(device)\n",
    "            pred_logit = model(sample_batch)\n",
    "            pred_prob = torch.softmax(pred_logit.squeeze(), dim=0)\n",
    "            pred_label = torch.argmax(pred_prob).cpu().item()\n",
    "            confidence = torch.max(pred_prob).cpu().item()\n",
    "            \n",
    "            # Visualizza l'immagine\n",
    "            if sample.shape[0] == 1:  # Se è in formato CHW con 1 canale\n",
    "                image = sample.squeeze().cpu()\n",
    "            else:\n",
    "                image = sample.cpu()\n",
    "            \n",
    "            axes[i].imshow(image, cmap='gray')\n",
    "            axes[i].axis('off')\n",
    "            \n",
    "            # Colore del titolo: verde se corretto, rosso se sbagliato\n",
    "            color = 'green' if pred_label == target_label else 'red'\n",
    "            \n",
    "            # Titolo with predizione vs target\n",
    "            title = f'Pred: {pred_label} | True: {target_label}\\nConf: {confidence:.2f}'\n",
    "            axes[i].set_title(title, color=color, fontsize=10)\n",
    "\n",
    "    plt.tight_layout()\n",
    "    plt.show()\n"
   ]
  },
  {
   "cell_type": "code",
   "execution_count": 42,
   "metadata": {},
   "outputs": [
    {
     "data": {
      "image/png": "[encoded data removed]",
      "text/plain": [
       "<Figure size 1500x300 with 5 Axes>"
      ]
     },
     "metadata": {},
     "output_type": "display_data"
    }
   ],
   "source": [
    "visualize_predictions(model, test_data, num_samples=5)"
   ]
  },
  {
   "cell_type": "markdown",
   "metadata": {
    "id": "qQwzqlBWxrpG"
   },
   "source": [
    "## 11. Plot a confusion matrix comparing your model's predictions to the truth labels."
   ]
  },
  {
   "cell_type": "code",
   "execution_count": 44,
   "metadata": {
    "id": "vSrXiT_AbQ6e"
   },
   "outputs": [],
   "source": [
    "import torch\n",
    "import matplotlib.pyplot as plt\n",
    "from torchmetrics import ConfusionMatrix\n",
    "from mlxtend.plotting import plot_confusion_matrix\n",
    "from sklearn.metrics import classification_report\n",
    "import numpy as np\n",
    "from torch.utils.data import DataLoader\n",
    "\n",
    "def plot_confusion_matrix_torchmetrics(model, test_dataset, device=None, batch_size=32):\n",
    "    \"\"\"\n",
    "    Crea e visualizza la confusion matrix usando torchmetrics e mlxtend\n",
    "    \n",
    "    Args:\n",
    "        model: Il modello addestrato\n",
    "        test_dataset: Il dataset di test\n",
    "        device: Device per l'inferenza\n",
    "        batch_size: Dimensione del batch per l'inferenza\n",
    "    \"\"\"\n",
    "    if device is None:\n",
    "        if torch.backends.mps.is_available():\n",
    "            device = torch.device(\"mps\")\n",
    "        elif torch.cuda.is_available():\n",
    "            device = torch.device(\"cuda\")\n",
    "        else:\n",
    "            device = torch.device(\"cpu\")\n",
    "    \n",
    "    # Inizializza ConfusionMatrix di torchmetrics\n",
    "    confmat = ConfusionMatrix(task=\"multiclass\", num_classes=10).to(device)\n",
    "    \n",
    "    # Crea un DataLoader per processare il test set in batch\n",
    "    test_dataloader = DataLoader(test_dataset, batch_size=batch_size, shuffle=False)\n",
    "    \n",
    "    model.to(device)\n",
    "    model.eval()\n",
    "    \n",
    "    all_predictions = []\n",
    "    all_targets = []\n",
    "    \n",
    "    print(\"Facendo predizioni su tutto il test set...\")\n",
    "    \n",
    "    with torch.inference_mode():\n",
    "        for batch, (X, y) in enumerate(test_dataloader):\n",
    "            # Sposta i dati sul device\n",
    "            X, y = X.to(device), y.to(device)\n",
    "            \n",
    "            # Predizioni\n",
    "            pred_logits = model(X)\n",
    "            pred_labels = torch.argmax(pred_logits, dim=1)\n",
    "            \n",
    "            # Aggiorna la confusion matrix\n",
    "            confmat.update(pred_labels, y)\n",
    "            \n",
    "            # Salva per il classification report\n",
    "            all_predictions.extend(pred_labels.cpu().numpy())\n",
    "            all_targets.extend(y.cpu().numpy())\n",
    "            \n",
    "            if batch % 100 == 0:\n",
    "                print(f\"Processato batch {batch}/{len(test_dataloader)}\")\n",
    "    \n",
    "    # Ottieni la confusion matrix finale\n",
    "    cm = confmat.compute().cpu().numpy()\n",
    "    \n",
    "    # Calcola l'accuracy\n",
    "    accuracy = np.sum(np.array(all_predictions) == np.array(all_targets)) / len(all_targets)\n",
    "    \n",
    "    # Plot della confusion matrix con mlxtend\n",
    "    fig, ax = plot_confusion_matrix(\n",
    "        conf_mat=cm,\n",
    "        class_names=[str(i) for i in range(10)],\n",
    "        show_absolute=True,\n",
    "        show_normed=False,\n",
    "        colorbar=True,\n",
    "        figsize=(10, 8)\n",
    "    )\n",
    "    \n",
    "    plt.title(f'Confusion Matrix - MNIST\\nAccuracy: {accuracy:.4f}')\n",
    "    plt.tight_layout()\n",
    "    plt.show()\n",
    "    \n",
    "    # Stampa il classification report\n",
    "    print(\"\\nClassification Report:\")\n",
    "    print(classification_report(all_targets, all_predictions, \n",
    "                              target_names=[str(i) for i in range(10)]))\n",
    "    \n",
    "    return cm, accuracy"
   ]
  },
  {
   "cell_type": "code",
   "execution_count": 45,
   "metadata": {},
   "outputs": [
    {
     "name": "stdout",
     "output_type": "stream",
     "text": [
      "Facendo predizioni su tutto il test set...\n",
      "Processato batch 0/313\n",
      "Processato batch 100/313\n",
      "Processato batch 200/313\n",
      "Processato batch 300/313\n"
     ]
    },
    {
     "data": {
      "image/png": "[encoded data removed]",
      "text/plain": [
       "<Figure size 1000x800 with 2 Axes>"
      ]
     },
     "metadata": {},
     "output_type": "display_data"
    },
    {
     "name": "stdout",
     "output_type": "stream",
     "text": [
      "\n",
      "Classification Report:\n",
      "              precision    recall  f1-score   support\n",
      "\n",
      "           0       0.97      0.99      0.98       980\n",
      "           1       0.99      0.99      0.99      1135\n",
      "           2       0.97      0.99      0.98      1032\n",
      "           3       0.99      0.98      0.98      1010\n",
      "           4       0.98      0.98      0.98       982\n",
      "           5       0.99      0.98      0.98       892\n",
      "           6       0.99      0.97      0.98       958\n",
      "           7       1.00      0.96      0.98      1028\n",
      "           8       0.97      0.98      0.98       974\n",
      "           9       0.96      0.98      0.97      1009\n",
      "\n",
      "    accuracy                           0.98     10000\n",
      "   macro avg       0.98      0.98      0.98     10000\n",
      "weighted avg       0.98      0.98      0.98     10000\n",
      "\n"
     ]
    }
   ],
   "source": [
    "cm, accuracy = plot_confusion_matrix_torchmetrics(model, test_data)"
   ]
  },
  {
   "cell_type": "markdown",
   "metadata": {
    "id": "lj6bDhoWxt2y"
   },
   "source": [
    "## 12. Create a random tensor of shape `[1, 3, 64, 64]` and pass it through a `nn.Conv2d()` layer with various hyperparameter settings (these can be any settings you choose), what do you notice if the `kernel_size` parameter goes up and down?"
   ]
  },
  {
   "cell_type": "code",
   "execution_count": 46,
   "metadata": {
    "id": "leCTsqtSbR5P"
   },
   "outputs": [],
   "source": [
    "import torch\n",
    "import torch.nn as nn\n",
    "import matplotlib.pyplot as plt\n",
    "\n",
    "def test_conv2d_kernel_sizes():\n",
    "    \"\"\"\n",
    "    Test dell'effetto di diversi kernel_size su un layer Conv2d\n",
    "    \"\"\"\n",
    "    # Crea un tensor casuale di shape [1, 3, 64, 64]\n",
    "    # [batch_size, channels, height, width]\n",
    "    random_tensor = torch.randn(1, 3, 64, 64)\n",
    "    \n",
    "    print(f\"Input tensor shape: {random_tensor.shape}\")\n",
    "    print(f\"Input tensor size: {random_tensor.numel()} elementi\")\n",
    "    print(\"-\" * 50)\n",
    "    \n",
    "    # Test con diversi kernel sizes\n",
    "    kernel_sizes = [1, 3, 5, 7, 11, 15, 21, 31]\n",
    "    \n",
    "    results = []\n",
    "    \n",
    "    for kernel_size in kernel_sizes:\n",
    "        # Crea layer Conv2d con parametri fissi tranne kernel_size\n",
    "        conv_layer = nn.Conv2d(\n",
    "            in_channels=3,      # RGB input\n",
    "            out_channels=16,    # 16 filtri di output\n",
    "            kernel_size=kernel_size,\n",
    "            stride=1,\n",
    "            padding=0,          # No padding per vedere l'effetto puro\n",
    "            bias=True\n",
    "        )\n",
    "        \n",
    "        # Passa il tensor attraverso il layer\n",
    "        try:\n",
    "            output = conv_layer(random_tensor)\n",
    "            \n",
    "            # Calcola il numero di parametri\n",
    "            num_params = sum(p.numel() for p in conv_layer.parameters())\n",
    "            \n",
    "            results.append({\n",
    "                'kernel_size': kernel_size,\n",
    "                'output_shape': output.shape,\n",
    "                'output_spatial_size': (output.shape[2], output.shape[3]),\n",
    "                'num_parameters': num_params,\n",
    "                'receptive_field': kernel_size\n",
    "            })\n",
    "            \n",
    "            print(f\"Kernel Size: {kernel_size}x{kernel_size}\")\n",
    "            print(f\"  Output shape: {output.shape}\")\n",
    "            print(f\"  Spatial dimensions: {output.shape[2]}x{output.shape[3]}\")\n",
    "            print(f\"  Number of parameters: {num_params}\")\n",
    "            print(f\"  Receptive field: {kernel_size}x{kernel_size}\")\n",
    "            print()\n",
    "            \n",
    "        except Exception as e:\n",
    "            print(f\"Kernel Size {kernel_size}: ERROR - {e}\")\n",
    "            print()\n",
    "    \n",
    "    return results, random_tensor\n",
    "\n",
    "def test_conv2d_with_padding():\n",
    "    \"\"\"\n",
    "    Test con padding per mantenere le dimensioni spaziali\n",
    "    \"\"\"\n",
    "    random_tensor = torch.randn(1, 3, 64, 64)\n",
    "    \n",
    "    print(\"=\" * 60)\n",
    "    print(\"TEST CON PADDING (per mantenere dimensioni spaziali)\")\n",
    "    print(\"=\" * 60)\n",
    "    \n",
    "    kernel_sizes = [1, 3, 5, 7, 11, 15]\n",
    "    \n",
    "    for kernel_size in kernel_sizes:\n",
    "        # Calcola padding per mantenere le stesse dimensioni spaziali\n",
    "        padding = kernel_size // 2\n",
    "        \n",
    "        conv_layer = nn.Conv2d(\n",
    "            in_channels=3,\n",
    "            out_channels=16,\n",
    "            kernel_size=kernel_size,\n",
    "            stride=1,\n",
    "            padding=padding,  # Padding per mantenere dimensioni\n",
    "            bias=True\n",
    "        )\n",
    "        \n",
    "        output = conv_layer(random_tensor)\n",
    "        num_params = sum(p.numel() for p in conv_layer.parameters())\n",
    "        \n",
    "        print(f\"Kernel Size: {kernel_size}x{kernel_size} (padding={padding})\")\n",
    "        print(f\"  Output shape: {output.shape}\")\n",
    "        print(f\"  Parameters: {num_params}\")\n",
    "        print()\n",
    "\n",
    "def visualize_kernel_effects():\n",
    "    \"\"\"\n",
    "    Visualizza l'effetto dei diversi kernel size\n",
    "    \"\"\"\n",
    "    results, _ = test_conv2d_kernel_sizes()\n",
    "    \n",
    "    # Estrai dati per i grafici\n",
    "    kernel_sizes = [r['kernel_size'] for r in results]\n",
    "    output_heights = [r['output_spatial_size'][0] for r in results]\n",
    "    num_params = [r['num_parameters'] for r in results]\n",
    "    \n",
    "    # Crea subplot\n",
    "    fig, (ax1, ax2) = plt.subplots(1, 2, figsize=(15, 6))\n",
    "    \n",
    "    # Grafico 1: Dimensioni output vs Kernel Size\n",
    "    ax1.plot(kernel_sizes, output_heights, 'bo-', linewidth=2, markersize=8)\n",
    "    ax1.set_xlabel('Kernel Size')\n",
    "    ax1.set_ylabel('Output Spatial Dimension')\n",
    "    ax1.set_title('Output Size vs Kernel Size\\n(Input: 64x64, No Padding)')\n",
    "    ax1.grid(True, alpha=0.7)\n",
    "    ax1.set_xticks(kernel_sizes)\n",
    "    \n",
    "    # Aggiungi annotazioni\n",
    "    for i, (k, h) in enumerate(zip(kernel_sizes, output_heights)):\n",
    "        ax1.annotate(f'{h}x{h}', (k, h), textcoords=\"offset points\", \n",
    "                    xytext=(0,10), ha='center')\n",
    "    \n",
    "    # Grafico 2: Numero di parametri vs Kernel Size\n",
    "    ax2.plot(kernel_sizes, num_params, 'ro-', linewidth=2, markersize=8)\n",
    "    ax2.set_xlabel('Kernel Size')\n",
    "    ax2.set_ylabel('Number of Parameters')\n",
    "    ax2.set_title('Parameters vs Kernel Size\\n(3→16 channels)')\n",
    "    ax2.grid(True, alpha=0.7)\n",
    "    ax2.set_xticks(kernel_sizes)\n",
    "    \n",
    "    # Aggiungi annotazioni\n",
    "    for i, (k, p) in enumerate(zip(kernel_sizes, num_params)):\n",
    "        ax2.annotate(f'{p}', (k, p), textcoords=\"offset points\", \n",
    "                    xytext=(0,10), ha='center')\n",
    "    \n",
    "    plt.tight_layout()\n",
    "    plt.show()\n",
    "\n",
    "def demonstrate_receptive_field():\n",
    "    \"\"\"\n",
    "    Dimostra il concetto di receptive field\n",
    "    \"\"\"\n",
    "    print(\"=\" * 60)\n",
    "    print(\"RECEPTIVE FIELD ANALYSIS\")\n",
    "    print(\"=\" * 60)\n",
    "    \n",
    "    input_size = 64\n",
    "    kernel_sizes = [1, 3, 5, 7, 11, 15, 21, 31]\n",
    "    \n",
    "    print(f\"Input size: {input_size}x{input_size}\")\n",
    "    print()\n",
    "    \n",
    "    for kernel_size in kernel_sizes:\n",
    "        # Calcola output size senza padding\n",
    "        output_size = input_size - kernel_size + 1\n",
    "        \n",
    "        # Percentuale di input che ogni pixel di output \"vede\"\n",
    "        receptive_field_percentage = (kernel_size ** 2) / (input_size ** 2) * 100\n",
    "        \n",
    "        if output_size > 0:\n",
    "            print(f\"Kernel {kernel_size}x{kernel_size}:\")\n",
    "            print(f\"  Output size: {output_size}x{output_size}\")\n",
    "            print(f\"  Receptive field: {kernel_size}x{kernel_size} pixels\")\n",
    "            print(f\"  RF percentage of input: {receptive_field_percentage:.2f}%\")\n",
    "            print(f\"  Information compression: {input_size**2} → {output_size**2} pixels\")\n",
    "            print()\n",
    "\n",
    "\n",
    "    "
   ]
  },
  {
   "cell_type": "code",
   "execution_count": 47,
   "metadata": {},
   "outputs": [
    {
     "name": "stdout",
     "output_type": "stream",
     "text": [
      "Input tensor shape: torch.Size([1, 3, 64, 64])\n",
      "Input tensor size: 12288 elementi\n",
      "--------------------------------------------------\n",
      "Kernel Size: 1x1\n",
      "  Output shape: torch.Size([1, 16, 64, 64])\n",
      "  Spatial dimensions: 64x64\n",
      "  Number of parameters: 64\n",
      "  Receptive field: 1x1\n",
      "\n",
      "Kernel Size: 3x3\n",
      "  Output shape: torch.Size([1, 16, 62, 62])\n",
      "  Spatial dimensions: 62x62\n",
      "  Number of parameters: 448\n",
      "  Receptive field: 3x3\n",
      "\n",
      "Kernel Size: 5x5\n",
      "  Output shape: torch.Size([1, 16, 60, 60])\n",
      "  Spatial dimensions: 60x60\n",
      "  Number of parameters: 1216\n",
      "  Receptive field: 5x5\n",
      "\n",
      "Kernel Size: 7x7\n",
      "  Output shape: torch.Size([1, 16, 58, 58])\n",
      "  Spatial dimensions: 58x58\n",
      "  Number of parameters: 2368\n",
      "  Receptive field: 7x7\n",
      "\n",
      "Kernel Size: 11x11\n",
      "  Output shape: torch.Size([1, 16, 54, 54])\n",
      "  Spatial dimensions: 54x54\n",
      "  Number of parameters: 5824\n",
      "  Receptive field: 11x11\n",
      "\n",
      "Kernel Size: 15x15\n",
      "  Output shape: torch.Size([1, 16, 50, 50])\n",
      "  Spatial dimensions: 50x50\n",
      "  Number of parameters: 10816\n",
      "  Receptive field: 15x15\n",
      "\n",
      "Kernel Size: 21x21\n",
      "  Output shape: torch.Size([1, 16, 44, 44])\n",
      "  Spatial dimensions: 44x44\n",
      "  Number of parameters: 21184\n",
      "  Receptive field: 21x21\n",
      "\n",
      "Kernel Size: 31x31\n",
      "  Output shape: torch.Size([1, 16, 34, 34])\n",
      "  Spatial dimensions: 34x34\n",
      "  Number of parameters: 46144\n",
      "  Receptive field: 31x31\n",
      "\n",
      "============================================================\n",
      "TEST CON PADDING (per mantenere dimensioni spaziali)\n",
      "============================================================\n",
      "Kernel Size: 1x1 (padding=0)\n",
      "  Output shape: torch.Size([1, 16, 64, 64])\n",
      "  Parameters: 64\n",
      "\n",
      "Kernel Size: 3x3 (padding=1)\n",
      "  Output shape: torch.Size([1, 16, 64, 64])\n",
      "  Parameters: 448\n",
      "\n",
      "Kernel Size: 5x5 (padding=2)\n",
      "  Output shape: torch.Size([1, 16, 64, 64])\n",
      "  Parameters: 1216\n",
      "\n",
      "Kernel Size: 7x7 (padding=3)\n",
      "  Output shape: torch.Size([1, 16, 64, 64])\n",
      "  Parameters: 2368\n",
      "\n",
      "Kernel Size: 11x11 (padding=5)\n",
      "  Output shape: torch.Size([1, 16, 64, 64])\n",
      "  Parameters: 5824\n",
      "\n",
      "Kernel Size: 15x15 (padding=7)\n",
      "  Output shape: torch.Size([1, 16, 64, 64])\n",
      "  Parameters: 10816\n",
      "\n",
      "============================================================\n",
      "RECEPTIVE FIELD ANALYSIS\n",
      "============================================================\n",
      "Input size: 64x64\n",
      "\n",
      "Kernel 1x1:\n",
      "  Output size: 64x64\n",
      "  Receptive field: 1x1 pixels\n",
      "  RF percentage of input: 0.02%\n",
      "  Information compression: 4096 → 4096 pixels\n",
      "\n",
      "Kernel 3x3:\n",
      "  Output size: 62x62\n",
      "  Receptive field: 3x3 pixels\n",
      "  RF percentage of input: 0.22%\n",
      "  Information compression: 4096 → 3844 pixels\n",
      "\n",
      "Kernel 5x5:\n",
      "  Output size: 60x60\n",
      "  Receptive field: 5x5 pixels\n",
      "  RF percentage of input: 0.61%\n",
      "  Information compression: 4096 → 3600 pixels\n",
      "\n",
      "Kernel 7x7:\n",
      "  Output size: 58x58\n",
      "  Receptive field: 7x7 pixels\n",
      "  RF percentage of input: 1.20%\n",
      "  Information compression: 4096 → 3364 pixels\n",
      "\n",
      "Kernel 11x11:\n",
      "  Output size: 54x54\n",
      "  Receptive field: 11x11 pixels\n",
      "  RF percentage of input: 2.95%\n",
      "  Information compression: 4096 → 2916 pixels\n",
      "\n",
      "Kernel 15x15:\n",
      "  Output size: 50x50\n",
      "  Receptive field: 15x15 pixels\n",
      "  RF percentage of input: 5.49%\n",
      "  Information compression: 4096 → 2500 pixels\n",
      "\n",
      "Kernel 21x21:\n",
      "  Output size: 44x44\n",
      "  Receptive field: 21x21 pixels\n",
      "  RF percentage of input: 10.77%\n",
      "  Information compression: 4096 → 1936 pixels\n",
      "\n",
      "Kernel 31x31:\n",
      "  Output size: 34x34\n",
      "  Receptive field: 31x31 pixels\n",
      "  RF percentage of input: 23.46%\n",
      "  Information compression: 4096 → 1156 pixels\n",
      "\n",
      "Input tensor shape: torch.Size([1, 3, 64, 64])\n",
      "Input tensor size: 12288 elementi\n",
      "--------------------------------------------------\n",
      "Kernel Size: 1x1\n",
      "  Output shape: torch.Size([1, 16, 64, 64])\n",
      "  Spatial dimensions: 64x64\n",
      "  Number of parameters: 64\n",
      "  Receptive field: 1x1\n",
      "\n",
      "Kernel Size: 3x3\n",
      "  Output shape: torch.Size([1, 16, 62, 62])\n",
      "  Spatial dimensions: 62x62\n",
      "  Number of parameters: 448\n",
      "  Receptive field: 3x3\n",
      "\n",
      "Kernel Size: 5x5\n",
      "  Output shape: torch.Size([1, 16, 60, 60])\n",
      "  Spatial dimensions: 60x60\n",
      "  Number of parameters: 1216\n",
      "  Receptive field: 5x5\n",
      "\n",
      "Kernel Size: 7x7\n",
      "  Output shape: torch.Size([1, 16, 58, 58])\n",
      "  Spatial dimensions: 58x58\n",
      "  Number of parameters: 2368\n",
      "  Receptive field: 7x7\n",
      "\n",
      "Kernel Size: 11x11\n",
      "  Output shape: torch.Size([1, 16, 54, 54])\n",
      "  Spatial dimensions: 54x54\n",
      "  Number of parameters: 5824\n",
      "  Receptive field: 11x11\n",
      "\n",
      "Kernel Size: 15x15\n",
      "  Output shape: torch.Size([1, 16, 50, 50])\n",
      "  Spatial dimensions: 50x50\n",
      "  Number of parameters: 10816\n",
      "  Receptive field: 15x15\n",
      "\n",
      "Kernel Size: 21x21\n",
      "  Output shape: torch.Size([1, 16, 44, 44])\n",
      "  Spatial dimensions: 44x44\n",
      "  Number of parameters: 21184\n",
      "  Receptive field: 21x21\n",
      "\n",
      "Kernel Size: 31x31\n",
      "  Output shape: torch.Size([1, 16, 34, 34])\n",
      "  Spatial dimensions: 34x34\n",
      "  Number of parameters: 46144\n",
      "  Receptive field: 31x31\n",
      "\n"
     ]
    },
    {
     "data": {
      "image/png": "[encoded data removed]",
      "text/plain": [
       "<Figure size 1500x600 with 2 Axes>"
      ]
     },
     "metadata": {},
     "output_type": "display_data"
    },
    {
     "name": "stdout",
     "output_type": "stream",
     "text": [
      "============================================================\n",
      "OSSERVAZIONI CHIAVE:\n",
      "============================================================\n",
      "1. KERNEL SIZE ↑ → OUTPUT SIZE ↓ (senza padding)\n",
      "2. KERNEL SIZE ↑ → PARAMETRI ↑ (crescita quadratica)\n",
      "3. KERNEL SIZE ↑ → RECEPTIVE FIELD ↑\n",
      "4. Kernel grandi = più contesto, meno dettagli spaziali\n",
      "5. Kernel piccoli = meno parametri, più dettagli spaziali\n"
     ]
    }
   ],
   "source": [
    "# Test principale\n",
    "results, input_tensor = test_conv2d_kernel_sizes()\n",
    "    \n",
    "# Test con padding\n",
    "test_conv2d_with_padding()\n",
    "    \n",
    "# Analisi receptive field\n",
    "demonstrate_receptive_field()\n",
    "    \n",
    "# Visualizzazioni\n",
    "visualize_kernel_effects()\n",
    "    \n",
    "print(\"=\" * 60)\n",
    "print(\"OSSERVAZIONI CHIAVE:\")\n",
    "print(\"=\" * 60)\n",
    "print(\"1. KERNEL SIZE ↑ → OUTPUT SIZE ↓ (senza padding)\")\n",
    "print(\"2. KERNEL SIZE ↑ → PARAMETRI ↑ (crescita quadratica)\")\n",
    "print(\"3. KERNEL SIZE ↑ → RECEPTIVE FIELD ↑\")\n",
    "print(\"4. Kernel grandi = più contesto, meno dettagli spaziali\")\n",
    "print(\"5. Kernel piccoli = meno parametri, più dettagli spaziali\")"
   ]
  },
  {
   "cell_type": "markdown",
   "metadata": {},
   "source": [
    "1. Dimensioni di Output ↓\n",
    "\n",
    "- Kernel 3x3: Output 62x62\n",
    "- Kernel 11x11: Output 54x54\n",
    "- Kernel 31x31: Output 34x34\n",
    "- Formula: output_size = input_size - kernel_size + 1\n",
    "\n",
    "2. Numero di Parametri ↑ (crescita quadratica)\n",
    "\n",
    "- Kernel 1x1: ~50 parametri\n",
    "- Kernel 5x5: ~1,200 parametri\n",
    "- Kernel 15x15: ~10,800 parametri\n",
    "- Formula: params = (kernel_size² × in_channels × out_channels) + out_channels\n",
    "\n",
    "3. Receptive Field ↑\n",
    "\n",
    "- Kernel piccoli vedono dettagli locali\n",
    "- Kernel grandi catturano pattern più ampi\n",
    "\n",
    "4. Trade-off Fondamentali:\n",
    "| Kernel Size | Vantaggi | Svantaggi |\n",
    "|-------------|----------|-----------|\n",
    "| Piccolo (1x1, 3x3) | • Meno parametri<br>• Dettagli fini<br>• Output grande | • Receptive field limitato<br>• Meno contesto globale |\n",
    "| Grande (11x11, 15x15)  | • Receptive field ampio<br>• Cattura pattern complessi<br>• Meno layer necessari | • Molti parametri<br>• Output piccolo<br>• Rischio overfitting |\n",
    "\n",
    "\n",
    "### 💡 Regola pratica:\n",
    "\n",
    "\n",
    "- 3x3: Standard per la maggior parte delle CNN moderne\n",
    "- 1x1: Per ridurre dimensionalità\n",
    "- 5x5, 7x7: Per catturare pattern intermedi\n",
    "- >11x11: Raramente usati, preferibili multiple conv 3x3"
   ]
  },
  {
   "cell_type": "code",
   "execution_count": null,
   "metadata": {
    "id": "78a8LjtdbSZj"
   },
   "outputs": [],
   "source": []
  }
 ],
 "metadata": {
  "accelerator": "GPU",
  "colab": {
   "authorship_tag": "ABX9TyMUsDcN/+FAm9Pf7Ifqs6AZ",
   "collapsed_sections": [],
   "include_colab_link": true,
   "name": "03_pytorch_computer_vision_exercises.ipynb",
   "provenance": []
  },
  "kernelspec": {
   "display_name": "Python 3 (ipykernel)",
   "language": "python",
   "name": "python3"
  },
  "language_info": {
   "codemirror_mode": {
    "name": "ipython",
    "version": 3
   },
   "file_extension": ".py",
   "mimetype": "text/x-python",
   "name": "python",
   "nbconvert_exporter": "python",
   "pygments_lexer": "ipython3",
   "version": "3.10.17"
  }
 },
 "nbformat": 4,
 "nbformat_minor": 4
}
